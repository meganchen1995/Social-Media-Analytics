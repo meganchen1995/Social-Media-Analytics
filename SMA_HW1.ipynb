{
 "cells": [
  {
   "cell_type": "markdown",
   "metadata": {},
   "source": [
    "# Social Media Analytics Homework 1\n",
    "#### *Siqi Chen (sc56839), Yuxin Li (yl24344), Gabriella Lio (gkl239), Jiahao Ye (jy7769), Boying You (by3475)*"
   ]
  },
  {
   "cell_type": "markdown",
   "metadata": {},
   "source": [
    "## PART I\n"
   ]
  },
  {
   "cell_type": "code",
   "execution_count": 1,
   "metadata": {
    "ExecuteTime": {
     "end_time": "2018-02-05T14:35:36.766111Z",
     "start_time": "2018-02-05T14:35:35.174393Z"
    }
   },
   "outputs": [
    {
     "name": "stdout",
     "output_type": "stream",
     "text": [
      "Populating the interactive namespace from numpy and matplotlib\n"
     ]
    }
   ],
   "source": [
    "import numpy as np\n",
    "import pandas as pd\n",
    "import seaborn as sns\n",
    "import matplotlib.pyplot as plt\n",
    "from sklearn import linear_model\n",
    "from sklearn.metrics import roc_auc_score\n",
    "from sklearn.model_selection import train_test_split, GridSearchCV, StratifiedKFold\n",
    "from sklearn.metrics import confusion_matrix, accuracy_score, roc_auc_score, roc_curve, precision_recall_curve, auc, brier_score_loss, average_precision_score \n",
    "from sklearn.preprocessing import StandardScaler, MinMaxScaler, OneHotEncoder, LabelEncoder, label_binarize, PolynomialFeatures\n",
    "from sklearn.linear_model import LogisticRegression\n",
    "from sklearn.neural_network import MLPClassifier\n",
    "from sklearn.svm import LinearSVC, SVC\n",
    "from xgboost import XGBClassifier\n",
    "from sklearn.discriminant_analysis import QuadraticDiscriminantAnalysis as QDA\n",
    "from sklearn.gaussian_process import GaussianProcessClassifier\n",
    "from sklearn.ensemble import RandomForestClassifier, AdaBoostClassifier, GradientBoostingClassifier\n",
    "from sklearn.naive_bayes import GaussianNB, BernoulliNB\n",
    "%pylab inline"
   ]
  },
  {
   "cell_type": "code",
   "execution_count": 2,
   "metadata": {
    "ExecuteTime": {
     "end_time": "2018-02-05T14:35:36.801754Z",
     "start_time": "2018-02-05T14:35:36.768550Z"
    }
   },
   "outputs": [],
   "source": [
    "train = pd.read_csv('raw/train.csv')"
   ]
  },
  {
   "cell_type": "code",
   "execution_count": 3,
   "metadata": {
    "ExecuteTime": {
     "end_time": "2018-02-05T14:35:36.811789Z",
     "start_time": "2018-02-05T14:35:36.804019Z"
    }
   },
   "outputs": [
    {
     "data": {
      "text/plain": [
       "(5500, 23)"
      ]
     },
     "execution_count": 3,
     "metadata": {},
     "output_type": "execute_result"
    }
   ],
   "source": [
    "train.shape"
   ]
  },
  {
   "cell_type": "code",
   "execution_count": 4,
   "metadata": {
    "ExecuteTime": {
     "end_time": "2018-02-05T14:35:36.859659Z",
     "start_time": "2018-02-05T14:35:36.814580Z"
    },
    "scrolled": true
   },
   "outputs": [
    {
     "data": {
      "text/html": [
       "<div>\n",
       "<style>\n",
       "    .dataframe thead tr:only-child th {\n",
       "        text-align: right;\n",
       "    }\n",
       "\n",
       "    .dataframe thead th {\n",
       "        text-align: left;\n",
       "    }\n",
       "\n",
       "    .dataframe tbody tr th {\n",
       "        vertical-align: top;\n",
       "    }\n",
       "</style>\n",
       "<table border=\"1\" class=\"dataframe\">\n",
       "  <thead>\n",
       "    <tr style=\"text-align: right;\">\n",
       "      <th></th>\n",
       "      <th>Choice</th>\n",
       "      <th>A_follower_count</th>\n",
       "      <th>A_following_count</th>\n",
       "      <th>A_listed_count</th>\n",
       "      <th>A_mentions_received</th>\n",
       "      <th>A_retweets_received</th>\n",
       "      <th>A_mentions_sent</th>\n",
       "      <th>A_retweets_sent</th>\n",
       "      <th>A_posts</th>\n",
       "      <th>A_network_feature_1</th>\n",
       "      <th>...</th>\n",
       "      <th>B_following_count</th>\n",
       "      <th>B_listed_count</th>\n",
       "      <th>B_mentions_received</th>\n",
       "      <th>B_retweets_received</th>\n",
       "      <th>B_mentions_sent</th>\n",
       "      <th>B_retweets_sent</th>\n",
       "      <th>B_posts</th>\n",
       "      <th>B_network_feature_1</th>\n",
       "      <th>B_network_feature_2</th>\n",
       "      <th>B_network_feature_3</th>\n",
       "    </tr>\n",
       "  </thead>\n",
       "  <tbody>\n",
       "    <tr>\n",
       "      <th>0</th>\n",
       "      <td>0</td>\n",
       "      <td>228</td>\n",
       "      <td>302</td>\n",
       "      <td>3</td>\n",
       "      <td>0.583979</td>\n",
       "      <td>0.100503</td>\n",
       "      <td>0.100503</td>\n",
       "      <td>0.100503</td>\n",
       "      <td>0.362150</td>\n",
       "      <td>2</td>\n",
       "      <td>...</td>\n",
       "      <td>29808</td>\n",
       "      <td>1689</td>\n",
       "      <td>15.430498</td>\n",
       "      <td>3.984029</td>\n",
       "      <td>8.204331</td>\n",
       "      <td>0.332423</td>\n",
       "      <td>6.988815</td>\n",
       "      <td>66</td>\n",
       "      <td>75.530303</td>\n",
       "      <td>1916.893939</td>\n",
       "    </tr>\n",
       "    <tr>\n",
       "      <th>1</th>\n",
       "      <td>0</td>\n",
       "      <td>21591</td>\n",
       "      <td>1179</td>\n",
       "      <td>228</td>\n",
       "      <td>90.456506</td>\n",
       "      <td>25.798292</td>\n",
       "      <td>5.709329</td>\n",
       "      <td>1.111159</td>\n",
       "      <td>5.176620</td>\n",
       "      <td>369</td>\n",
       "      <td>...</td>\n",
       "      <td>848</td>\n",
       "      <td>1610</td>\n",
       "      <td>40.495021</td>\n",
       "      <td>8.943607</td>\n",
       "      <td>3.227677</td>\n",
       "      <td>0.564343</td>\n",
       "      <td>1.070321</td>\n",
       "      <td>163</td>\n",
       "      <td>132.030675</td>\n",
       "      <td>2931.515337</td>\n",
       "    </tr>\n",
       "    <tr>\n",
       "      <th>2</th>\n",
       "      <td>0</td>\n",
       "      <td>7310</td>\n",
       "      <td>1215</td>\n",
       "      <td>101</td>\n",
       "      <td>25.503644</td>\n",
       "      <td>9.556347</td>\n",
       "      <td>5.361519</td>\n",
       "      <td>0.591206</td>\n",
       "      <td>3.589718</td>\n",
       "      <td>95</td>\n",
       "      <td>...</td>\n",
       "      <td>482</td>\n",
       "      <td>206</td>\n",
       "      <td>0.734696</td>\n",
       "      <td>0.354379</td>\n",
       "      <td>0.603202</td>\n",
       "      <td>0.100503</td>\n",
       "      <td>0.603202</td>\n",
       "      <td>3</td>\n",
       "      <td>10.333333</td>\n",
       "      <td>277.333333</td>\n",
       "    </tr>\n",
       "    <tr>\n",
       "      <th>3</th>\n",
       "      <td>0</td>\n",
       "      <td>20</td>\n",
       "      <td>7</td>\n",
       "      <td>2</td>\n",
       "      <td>7.690824</td>\n",
       "      <td>0.277306</td>\n",
       "      <td>1.331508</td>\n",
       "      <td>0.100503</td>\n",
       "      <td>2.830627</td>\n",
       "      <td>6</td>\n",
       "      <td>...</td>\n",
       "      <td>17637</td>\n",
       "      <td>278</td>\n",
       "      <td>572.874856</td>\n",
       "      <td>390.293681</td>\n",
       "      <td>27.552040</td>\n",
       "      <td>7.167557</td>\n",
       "      <td>32.101906</td>\n",
       "      <td>1762</td>\n",
       "      <td>23.469296</td>\n",
       "      <td>1395.845634</td>\n",
       "    </tr>\n",
       "    <tr>\n",
       "      <th>4</th>\n",
       "      <td>1</td>\n",
       "      <td>45589</td>\n",
       "      <td>862</td>\n",
       "      <td>2641</td>\n",
       "      <td>148.854279</td>\n",
       "      <td>36.998884</td>\n",
       "      <td>27.881768</td>\n",
       "      <td>3.333492</td>\n",
       "      <td>23.861282</td>\n",
       "      <td>551</td>\n",
       "      <td>...</td>\n",
       "      <td>1711</td>\n",
       "      <td>181</td>\n",
       "      <td>21.601866</td>\n",
       "      <td>3.581661</td>\n",
       "      <td>6.764657</td>\n",
       "      <td>1.119727</td>\n",
       "      <td>4.563246</td>\n",
       "      <td>85</td>\n",
       "      <td>48.500000</td>\n",
       "      <td>1993.627907</td>\n",
       "    </tr>\n",
       "  </tbody>\n",
       "</table>\n",
       "<p>5 rows × 23 columns</p>\n",
       "</div>"
      ],
      "text/plain": [
       "   Choice  A_follower_count  A_following_count  A_listed_count  \\\n",
       "0       0               228                302               3   \n",
       "1       0             21591               1179             228   \n",
       "2       0              7310               1215             101   \n",
       "3       0                20                  7               2   \n",
       "4       1             45589                862            2641   \n",
       "\n",
       "   A_mentions_received  A_retweets_received  A_mentions_sent  A_retweets_sent  \\\n",
       "0             0.583979             0.100503         0.100503         0.100503   \n",
       "1            90.456506            25.798292         5.709329         1.111159   \n",
       "2            25.503644             9.556347         5.361519         0.591206   \n",
       "3             7.690824             0.277306         1.331508         0.100503   \n",
       "4           148.854279            36.998884        27.881768         3.333492   \n",
       "\n",
       "     A_posts  A_network_feature_1         ...           B_following_count  \\\n",
       "0   0.362150                    2         ...                       29808   \n",
       "1   5.176620                  369         ...                         848   \n",
       "2   3.589718                   95         ...                         482   \n",
       "3   2.830627                    6         ...                       17637   \n",
       "4  23.861282                  551         ...                        1711   \n",
       "\n",
       "   B_listed_count  B_mentions_received  B_retweets_received  B_mentions_sent  \\\n",
       "0            1689            15.430498             3.984029         8.204331   \n",
       "1            1610            40.495021             8.943607         3.227677   \n",
       "2             206             0.734696             0.354379         0.603202   \n",
       "3             278           572.874856           390.293681        27.552040   \n",
       "4             181            21.601866             3.581661         6.764657   \n",
       "\n",
       "   B_retweets_sent    B_posts  B_network_feature_1  B_network_feature_2  \\\n",
       "0         0.332423   6.988815                   66            75.530303   \n",
       "1         0.564343   1.070321                  163           132.030675   \n",
       "2         0.100503   0.603202                    3            10.333333   \n",
       "3         7.167557  32.101906                 1762            23.469296   \n",
       "4         1.119727   4.563246                   85            48.500000   \n",
       "\n",
       "   B_network_feature_3  \n",
       "0          1916.893939  \n",
       "1          2931.515337  \n",
       "2           277.333333  \n",
       "3          1395.845634  \n",
       "4          1993.627907  \n",
       "\n",
       "[5 rows x 23 columns]"
      ]
     },
     "execution_count": 4,
     "metadata": {},
     "output_type": "execute_result"
    }
   ],
   "source": [
    "train.head()"
   ]
  },
  {
   "cell_type": "code",
   "execution_count": 5,
   "metadata": {
    "ExecuteTime": {
     "end_time": "2018-02-05T14:35:36.869403Z",
     "start_time": "2018-02-05T14:35:36.862654Z"
    }
   },
   "outputs": [
    {
     "data": {
      "text/plain": [
       "array(['Choice', 'A_follower_count', 'A_following_count', 'A_listed_count',\n",
       "       'A_mentions_received', 'A_retweets_received', 'A_mentions_sent',\n",
       "       'A_retweets_sent', 'A_posts', 'A_network_feature_1',\n",
       "       'A_network_feature_2', 'A_network_feature_3', 'B_follower_count',\n",
       "       'B_following_count', 'B_listed_count', 'B_mentions_received',\n",
       "       'B_retweets_received', 'B_mentions_sent', 'B_retweets_sent',\n",
       "       'B_posts', 'B_network_feature_1', 'B_network_feature_2',\n",
       "       'B_network_feature_3'], dtype=object)"
      ]
     },
     "execution_count": 5,
     "metadata": {},
     "output_type": "execute_result"
    }
   ],
   "source": [
    "train.columns.values"
   ]
  },
  {
   "cell_type": "markdown",
   "metadata": {},
   "source": [
    "## a little EDA..."
   ]
  },
  {
   "cell_type": "code",
   "execution_count": 6,
   "metadata": {
    "ExecuteTime": {
     "end_time": "2018-02-05T14:35:37.262914Z",
     "start_time": "2018-02-05T14:35:36.872504Z"
    }
   },
   "outputs": [
    {
     "data": {
      "text/plain": [
       "<matplotlib.axes._subplots.AxesSubplot at 0x10db8b550>"
      ]
     },
     "execution_count": 6,
     "metadata": {},
     "output_type": "execute_result"
    },
    {
     "data": {
      "image/png": "[encoded data removed]",
      "text/plain": [
       "<matplotlib.figure.Figure at 0x10d532a50>"
      ]
     },
     "metadata": {},
     "output_type": "display_data"
    }
   ],
   "source": [
    "sns.boxplot(x = 'Choice', y ='A_follower_count',data=train)"
   ]
  },
  {
   "cell_type": "code",
   "execution_count": 7,
   "metadata": {
    "ExecuteTime": {
     "end_time": "2018-02-05T14:35:37.609205Z",
     "start_time": "2018-02-05T14:35:37.266368Z"
    }
   },
   "outputs": [
    {
     "data": {
      "text/plain": [
       "<matplotlib.axes._subplots.AxesSubplot at 0x10def3150>"
      ]
     },
     "execution_count": 7,
     "metadata": {},
     "output_type": "execute_result"
    },
    {
     "data": {
      "image/png": "[encoded data removed]",
      "text/plain": [
       "<matplotlib.figure.Figure at 0x10dc032d0>"
      ]
     },
     "metadata": {},
     "output_type": "display_data"
    }
   ],
   "source": [
    "sns.boxplot(x = 'Choice', y ='B_follower_count',data=train)"
   ]
  },
  {
   "cell_type": "markdown",
   "metadata": {},
   "source": [
    "### pairplots"
   ]
  },
  {
   "cell_type": "code",
   "execution_count": 8,
   "metadata": {
    "ExecuteTime": {
     "end_time": "2018-02-05T14:35:39.115889Z",
     "start_time": "2018-02-05T14:35:37.615049Z"
    }
   },
   "outputs": [
    {
     "data": {
      "text/plain": [
       "<seaborn.axisgrid.PairGrid at 0x10e036390>"
      ]
     },
     "execution_count": 8,
     "metadata": {},
     "output_type": "execute_result"
    },
    {
     "data": {
      "image/png": "[encoded data removed]",
      "text/plain": [
       "<matplotlib.figure.Figure at 0x10e036510>"
      ]
     },
     "metadata": {},
     "output_type": "display_data"
    }
   ],
   "source": [
    "sns.pairplot(data=train, size = 3,hue='Choice', diag_kind='kde', vars=['A_follower_count','B_follower_count'])"
   ]
  },
  {
   "cell_type": "code",
   "execution_count": 9,
   "metadata": {
    "ExecuteTime": {
     "end_time": "2018-02-05T14:35:40.258542Z",
     "start_time": "2018-02-05T14:35:39.118345Z"
    }
   },
   "outputs": [
    {
     "data": {
      "text/plain": [
       "<seaborn.axisgrid.PairGrid at 0x10e4fe890>"
      ]
     },
     "execution_count": 9,
     "metadata": {},
     "output_type": "execute_result"
    },
    {
     "data": {
      "image/png": "[encoded data removed]",
      "text/plain": [
       "<matplotlib.figure.Figure at 0x10e4fef90>"
      ]
     },
     "metadata": {},
     "output_type": "display_data"
    }
   ],
   "source": [
    "sns.pairplot(data=train, size = 3,hue='Choice', diag_kind='kde', vars=['A_following_count','B_following_count'])"
   ]
  },
  {
   "cell_type": "markdown",
   "metadata": {},
   "source": [
    "#### Highly skewed, no very clear boundaries."
   ]
  },
  {
   "cell_type": "markdown",
   "metadata": {},
   "source": [
    "## Feature Transformation"
   ]
  },
  {
   "cell_type": "code",
   "execution_count": 10,
   "metadata": {
    "ExecuteTime": {
     "end_time": "2018-02-05T14:35:40.266976Z",
     "start_time": "2018-02-05T14:35:40.260987Z"
    }
   },
   "outputs": [],
   "source": [
    "features = [x[2:] for x in train.columns.values[1:12]]"
   ]
  },
  {
   "cell_type": "code",
   "execution_count": 11,
   "metadata": {
    "ExecuteTime": {
     "end_time": "2018-02-05T14:35:40.296642Z",
     "start_time": "2018-02-05T14:35:40.271352Z"
    }
   },
   "outputs": [],
   "source": [
    "#create new feature as ratio of A and B\n",
    "for f in features:\n",
    "    a = 'A_' + f\n",
    "    b = 'B_' + f\n",
    "    new = 'diff_' + f\n",
    "    train[new] = 1.0*(train[a]+1)/(train[b]+1) #avoid zero division"
   ]
  },
  {
   "cell_type": "code",
   "execution_count": 12,
   "metadata": {
    "ExecuteTime": {
     "end_time": "2018-02-05T14:35:40.551311Z",
     "start_time": "2018-02-05T14:35:40.300447Z"
    }
   },
   "outputs": [
    {
     "data": {
      "text/plain": [
       "<matplotlib.axes._subplots.AxesSubplot at 0x10e9e89d0>"
      ]
     },
     "execution_count": 12,
     "metadata": {},
     "output_type": "execute_result"
    },
    {
     "data": {
      "image/png": "[encoded data removed]",
      "text/plain": [
       "<matplotlib.figure.Figure at 0x10e983f90>"
      ]
     },
     "metadata": {},
     "output_type": "display_data"
    }
   ],
   "source": [
    "#check the density plot, very skewed, perform log transformation\n",
    "sns.kdeplot(train[train.Choice == 1]['diff_follower_count'],color = 'red', shade = 'True')\n",
    "sns.kdeplot(train[train.Choice == 0]['diff_follower_count'],color = 'blue', shade = 'True')"
   ]
  },
  {
   "cell_type": "markdown",
   "metadata": {
    "ExecuteTime": {
     "end_time": "2018-01-29T16:28:20.791007Z",
     "start_time": "2018-01-29T16:28:20.776185Z"
    }
   },
   "source": [
    "#### Still highly skewed, perform log transformation"
   ]
  },
  {
   "cell_type": "code",
   "execution_count": 13,
   "metadata": {
    "ExecuteTime": {
     "end_time": "2018-02-05T14:35:40.567760Z",
     "start_time": "2018-02-05T14:35:40.553933Z"
    }
   },
   "outputs": [],
   "source": [
    "for f in features:\n",
    "    diff = 'diff_' + f\n",
    "    logdiff = 'logdiff_' + f\n",
    "    train[logdiff] = np.log(train[diff])"
   ]
  },
  {
   "cell_type": "code",
   "execution_count": 14,
   "metadata": {
    "ExecuteTime": {
     "end_time": "2018-02-05T14:35:43.316941Z",
     "start_time": "2018-02-05T14:35:40.570222Z"
    }
   },
   "outputs": [
    {
     "data": {
      "image/png": "[encoded data removed]",
      "text/plain": [
       "<matplotlib.figure.Figure at 0x10e465650>"
      ]
     },
     "metadata": {},
     "output_type": "display_data"
    }
   ],
   "source": [
    "#check the density plot again, looks normal and more separatable\n",
    "fig, ((ax1,ax2,ax3,ax4),\n",
    "      (ax5,ax6,ax7,ax8),\n",
    "      (ax9,ax10,ax11,ax12)) = subplots(nrows = 3, ncols = 4, figsize = (20,10))\n",
    "\n",
    "ax = [ax1,ax2,ax3,ax4,ax5,ax6,ax7,ax8,ax9,ax10,ax11]\n",
    "\n",
    "for i,f in enumerate(features):\n",
    "    sns.kdeplot(train[train.Choice == 1]['logdiff_%s'%(f)],color = 'red', shade = 'True', ax = ax[i])\n",
    "    sns.kdeplot(train[train.Choice == 0]['logdiff_%s'%(f)],color = 'blue', shade = 'True', ax = ax[i])\n",
    "    ax[i].set_title(f)"
   ]
  },
  {
   "cell_type": "markdown",
   "metadata": {},
   "source": [
    "#### Looks good now"
   ]
  },
  {
   "cell_type": "markdown",
   "metadata": {},
   "source": [
    "## Binary Classification"
   ]
  },
  {
   "cell_type": "markdown",
   "metadata": {},
   "source": [
    "### Train-test Split"
   ]
  },
  {
   "cell_type": "code",
   "execution_count": 15,
   "metadata": {
    "ExecuteTime": {
     "end_time": "2018-02-05T14:35:43.328524Z",
     "start_time": "2018-02-05T14:35:43.320497Z"
    }
   },
   "outputs": [],
   "source": [
    "#train test split\n",
    "X = train.iloc[:,-11:]\n",
    "y = train.Choice\n",
    "\n",
    "X_train, X_test, y_train, y_test = train_test_split(X, y, test_size=0.3)"
   ]
  },
  {
   "cell_type": "code",
   "execution_count": 16,
   "metadata": {
    "ExecuteTime": {
     "end_time": "2018-02-05T14:35:43.341388Z",
     "start_time": "2018-02-05T14:35:43.331067Z"
    }
   },
   "outputs": [
    {
     "data": {
      "text/plain": [
       "1    0.509455\n",
       "0    0.490545\n",
       "Name: Choice, dtype: float64"
      ]
     },
     "execution_count": 16,
     "metadata": {},
     "output_type": "execute_result"
    }
   ],
   "source": [
    "#class distribution\n",
    "y.value_counts()/len(y)"
   ]
  },
  {
   "cell_type": "markdown",
   "metadata": {},
   "source": [
    "### Gaussian Naive Bayes"
   ]
  },
  {
   "cell_type": "code",
   "execution_count": 17,
   "metadata": {
    "ExecuteTime": {
     "end_time": "2018-02-05T14:35:43.361547Z",
     "start_time": "2018-02-05T14:35:43.344230Z"
    }
   },
   "outputs": [
    {
     "name": "stdout",
     "output_type": "stream",
     "text": [
      "ROC of NB: 0.8595863289\n",
      "Accuracy of NB: 0.763636363636\n"
     ]
    }
   ],
   "source": [
    "clf_nb = GaussianNB()\n",
    "clf_nb.fit(X_train,y_train)\n",
    "\n",
    "y_pred_nb = clf_nb.predict(X_test)\n",
    "y_pred_prob_nb = clf_nb.predict_proba(X_test)[:,1]\n",
    "\n",
    "print 'ROC of NB:', roc_auc_score(y_test, y_pred_prob_nb)\n",
    "print 'Accuracy of NB:',accuracy_score(y_test, y_pred_nb)"
   ]
  },
  {
   "cell_type": "markdown",
   "metadata": {},
   "source": [
    "### Logistic Regression"
   ]
  },
  {
   "cell_type": "code",
   "execution_count": 18,
   "metadata": {
    "ExecuteTime": {
     "end_time": "2018-02-05T14:35:43.921281Z",
     "start_time": "2018-02-05T14:35:43.364866Z"
    }
   },
   "outputs": [
    {
     "name": "stdout",
     "output_type": "stream",
     "text": [
      "('best cv params:', {'penalty': 'l1', 'C': 10})\n"
     ]
    }
   ],
   "source": [
    "#standardize\n",
    "scaler = StandardScaler() \n",
    "X_train_lm = scaler.fit_transform(X_train)\n",
    "X_test_lm = scaler.transform(X_test)\n",
    "\n",
    "clf_lr = LogisticRegression()\n",
    "C = [0.001, 0.01, 0.1, 1, 10]\n",
    "penalty = ['l2','l1']\n",
    "param_grid = dict(C = C, penalty = penalty)\n",
    "kfold = StratifiedKFold(n_splits=3, shuffle=True, random_state=24)\n",
    "grid_search_lr = GridSearchCV(clf_lr, param_grid, scoring=\"roc_auc\", n_jobs=-1, cv=kfold)\n",
    "grid_search_lr.fit(X_train_lm, y_train)\n",
    "print('best cv params:', grid_search_lr.best_params_)\n",
    "\n",
    "#fit\n",
    "y_pred_lr = grid_search_lr.predict(X_test_lm)\n",
    "y_pred_prob_lr = grid_search_lr.predict_proba(X_test_lm)[:,1]"
   ]
  },
  {
   "cell_type": "code",
   "execution_count": 19,
   "metadata": {
    "ExecuteTime": {
     "end_time": "2018-02-05T14:35:43.933486Z",
     "start_time": "2018-02-05T14:35:43.924471Z"
    }
   },
   "outputs": [
    {
     "name": "stdout",
     "output_type": "stream",
     "text": [
      "ROC of Logistic Regression: 0.870497466165\n",
      "Accuracy of Logistic Regression: 0.776363636364\n"
     ]
    }
   ],
   "source": [
    "print 'ROC of Logistic Regression:', roc_auc_score(y_test, y_pred_prob_lr)\n",
    "print 'Accuracy of Logistic Regression:', accuracy_score(y_test, y_pred_lr)"
   ]
  },
  {
   "cell_type": "markdown",
   "metadata": {},
   "source": [
    "### SVC"
   ]
  },
  {
   "cell_type": "code",
   "execution_count": 20,
   "metadata": {
    "ExecuteTime": {
     "end_time": "2018-02-05T14:35:45.004512Z",
     "start_time": "2018-02-05T14:35:43.936311Z"
    }
   },
   "outputs": [
    {
     "name": "stdout",
     "output_type": "stream",
     "text": [
      "('best cv params:', {'loss': 'squared_hinge', 'C': 0.1})\n"
     ]
    }
   ],
   "source": [
    "clf_svc = LinearSVC()\n",
    "C = [0.0001, 0.001, 0.01, 0.1, 1, 10]\n",
    "loss = ['squared_hinge', 'hinge']\n",
    "param_grid = dict(C = C, loss = loss)\n",
    "kfold = StratifiedKFold(n_splits=3, shuffle=True, random_state=24)\n",
    "grid_search_svc = GridSearchCV(clf_svc, param_grid, scoring=\"roc_auc\", n_jobs=-1, cv=kfold)\n",
    "grid_search_svc.fit(X_train_lm, y_train)\n",
    "print('best cv params:', grid_search_svc.best_params_)\n",
    "\n",
    "y_pred_svc = grid_search_svc.predict(X_test_lm)\n",
    "y_pred_prob_svc = grid_search_svc.decision_function(X_test_lm)"
   ]
  },
  {
   "cell_type": "code",
   "execution_count": 21,
   "metadata": {
    "ExecuteTime": {
     "end_time": "2018-02-05T14:35:45.019680Z",
     "start_time": "2018-02-05T14:35:45.008110Z"
    }
   },
   "outputs": [
    {
     "name": "stdout",
     "output_type": "stream",
     "text": [
      "ROC of SVC: 0.870560646734\n",
      "Accuracy of SVC: 0.776363636364\n"
     ]
    }
   ],
   "source": [
    "print 'ROC of SVC:', roc_auc_score(y_test, y_pred_prob_svc)\n",
    "print 'Accuracy of SVC:', accuracy_score(y_test, y_pred_svc)"
   ]
  },
  {
   "cell_type": "markdown",
   "metadata": {},
   "source": [
    "### QDA"
   ]
  },
  {
   "cell_type": "code",
   "execution_count": 22,
   "metadata": {
    "ExecuteTime": {
     "end_time": "2018-02-05T14:35:45.045730Z",
     "start_time": "2018-02-05T14:35:45.024343Z"
    }
   },
   "outputs": [],
   "source": [
    "clf_qda = QDA()\n",
    "clf_qda.fit(X_train, y_train)\n",
    "\n",
    "y_pred_qda = clf_qda.predict(X_test)\n",
    "y_pred_prob_qda = clf_qda.predict_proba(X_test)[:,1]"
   ]
  },
  {
   "cell_type": "code",
   "execution_count": 23,
   "metadata": {
    "ExecuteTime": {
     "end_time": "2018-02-05T14:35:45.057642Z",
     "start_time": "2018-02-05T14:35:45.048506Z"
    }
   },
   "outputs": [
    {
     "name": "stdout",
     "output_type": "stream",
     "text": [
      "ROC of QDA: 0.865397471896\n",
      "Accuracy of QDA: 0.775757575758\n"
     ]
    }
   ],
   "source": [
    "print 'ROC of QDA:', roc_auc_score(y_test, y_pred_prob_qda)\n",
    "print 'Accuracy of QDA:', accuracy_score(y_test, y_pred_qda)"
   ]
  },
  {
   "cell_type": "markdown",
   "metadata": {},
   "source": [
    "### Random Forest"
   ]
  },
  {
   "cell_type": "code",
   "execution_count": 24,
   "metadata": {
    "ExecuteTime": {
     "end_time": "2018-02-05T14:36:57.707976Z",
     "start_time": "2018-02-05T14:35:45.061022Z"
    }
   },
   "outputs": [
    {
     "name": "stdout",
     "output_type": "stream",
     "text": [
      "('best cv params:', {'max_features': 'log2', 'n_estimators': 500})\n"
     ]
    }
   ],
   "source": [
    "clf_rf = RandomForestClassifier()\n",
    "n_estimators = [300, 500, 800]\n",
    "max_features = ['sqrt', 'log2', None]\n",
    "param_grid = dict(max_features=max_features, n_estimators=n_estimators)\n",
    "kfold = StratifiedKFold(n_splits=3, shuffle=True, random_state=24)\n",
    "grid_search_rf = GridSearchCV(clf_rf, param_grid, scoring=\"roc_auc\", n_jobs=-1, cv=kfold)\n",
    "grid_search_rf.fit(X_train, y_train)\n",
    "print('best cv params:', grid_search_rf.best_params_)"
   ]
  },
  {
   "cell_type": "code",
   "execution_count": 25,
   "metadata": {
    "ExecuteTime": {
     "end_time": "2018-02-05T14:36:57.990637Z",
     "start_time": "2018-02-05T14:36:57.710471Z"
    }
   },
   "outputs": [],
   "source": [
    "y_pred_rf = grid_search_rf.predict(X_test)\n",
    "y_pred_prob_rf = grid_search_rf.predict_proba(X_test)[:,1]"
   ]
  },
  {
   "cell_type": "code",
   "execution_count": 26,
   "metadata": {
    "ExecuteTime": {
     "end_time": "2018-02-05T14:36:58.000695Z",
     "start_time": "2018-02-05T14:36:57.992682Z"
    }
   },
   "outputs": [
    {
     "name": "stdout",
     "output_type": "stream",
     "text": [
      "ROC of Random Forest: 0.859626735078\n",
      "Accuracy of Random Forest: 0.771515151515\n"
     ]
    }
   ],
   "source": [
    "print 'ROC of Random Forest:', roc_auc_score(y_test, y_pred_prob_rf)\n",
    "print 'Accuracy of Random Forest:', accuracy_score(y_test, y_pred_rf)"
   ]
  },
  {
   "cell_type": "markdown",
   "metadata": {},
   "source": [
    "### XGBoost"
   ]
  },
  {
   "cell_type": "code",
   "execution_count": 27,
   "metadata": {
    "ExecuteTime": {
     "end_time": "2018-02-05T14:37:30.218303Z",
     "start_time": "2018-02-05T14:36:58.003720Z"
    }
   },
   "outputs": [
    {
     "name": "stdout",
     "output_type": "stream",
     "text": [
      "('best cv params:', {'n_estimators': 500, 'learning_rate': 0.01, 'reg_lambda': 0.001})\n"
     ]
    }
   ],
   "source": [
    "clf_xgb = XGBClassifier()\n",
    "n_estimators = [200,500]\n",
    "learning_rate = [0.001, 0.01, 0.1]\n",
    "reg_lambda = [0.001, 0.01, 0.1, 1, 10]\n",
    "param_grid = dict(learning_rate=learning_rate, n_estimators=n_estimators,reg_lambda = reg_lambda)\n",
    "kfold = StratifiedKFold(n_splits=3, shuffle=True, random_state=24)\n",
    "grid_search_xgb = GridSearchCV(clf_xgb, param_grid, scoring=\"roc_auc\", n_jobs=-1, cv=kfold)\n",
    "grid_search_xgb.fit(X_train, y_train)\n",
    "print('best cv params:', grid_search_xgb.best_params_)\n",
    "\n",
    "y_pred_xgb = grid_search_xgb.predict(X_test)\n",
    "y_pred_prob_xgb = grid_search_xgb.predict_proba(X_test)[:,1]"
   ]
  },
  {
   "cell_type": "code",
   "execution_count": 28,
   "metadata": {
    "ExecuteTime": {
     "end_time": "2018-02-05T14:37:30.231317Z",
     "start_time": "2018-02-05T14:37:30.220891Z"
    }
   },
   "outputs": [
    {
     "name": "stdout",
     "output_type": "stream",
     "text": [
      "ROC of XGBoost: 0.870257233073\n",
      "Accuracy of XGBoost: 0.775151515152\n"
     ]
    }
   ],
   "source": [
    "print 'ROC of XGBoost:', roc_auc_score(y_test, y_pred_prob_xgb)\n",
    "print 'Accuracy of XGBoost:', accuracy_score(y_test, y_pred_xgb)"
   ]
  },
  {
   "cell_type": "markdown",
   "metadata": {},
   "source": [
    "### Feature Importance"
   ]
  },
  {
   "cell_type": "markdown",
   "metadata": {},
   "source": [
    "#### XGBoost"
   ]
  },
  {
   "cell_type": "code",
   "execution_count": 29,
   "metadata": {
    "ExecuteTime": {
     "end_time": "2018-02-05T14:37:31.019188Z",
     "start_time": "2018-02-05T14:37:30.233435Z"
    }
   },
   "outputs": [
    {
     "data": {
      "text/plain": [
       "<matplotlib.axes._subplots.AxesSubplot at 0x10f9aea90>"
      ]
     },
     "execution_count": 29,
     "metadata": {},
     "output_type": "execute_result"
    },
    {
     "data": {
      "image/png": "[encoded data removed]",
      "text/plain": [
       "<matplotlib.figure.Figure at 0x10f936190>"
      ]
     },
     "metadata": {},
     "output_type": "display_data"
    }
   ],
   "source": [
    "##feature importance\n",
    "clf_xgb = XGBClassifier(n_estimators=100, subsample=1, learning_rate=0.1, reg_lambda=1)\n",
    "clf_xgb.fit(X_train, y_train)\n",
    "fimp_xgb = zip(X.columns.values.tolist(),clf_xgb.feature_importances_.tolist())\n",
    "fimp_xgb = pd.DataFrame(sorted(fimp_xgb, key = lambda x: x[1], reverse=True), columns=['feature','importance']).set_index('feature')\n",
    "fimp_xgb.sort_values(by = 'importance',ascending=True).plot(kind = 'barh')"
   ]
  },
  {
   "cell_type": "markdown",
   "metadata": {},
   "source": [
    "#### Logistic Regression"
   ]
  },
  {
   "cell_type": "code",
   "execution_count": 30,
   "metadata": {
    "ExecuteTime": {
     "end_time": "2018-02-05T14:37:31.400166Z",
     "start_time": "2018-02-05T14:37:31.022306Z"
    }
   },
   "outputs": [
    {
     "data": {
      "text/plain": [
       "<matplotlib.axes._subplots.AxesSubplot at 0x10f9461d0>"
      ]
     },
     "execution_count": 30,
     "metadata": {},
     "output_type": "execute_result"
    },
    {
     "data": {
      "image/png": "[encoded data removed]",
      "text/plain": [
       "<matplotlib.figure.Figure at 0x10f9990d0>"
      ]
     },
     "metadata": {},
     "output_type": "display_data"
    }
   ],
   "source": [
    "clf_lr = LogisticRegression(penalty='l2', C=0.1)\n",
    "clf_lr.fit(X_train_lm, y_train)\n",
    "fimp_lr = zip(X.columns.values.tolist(),clf_lr.coef_[0].tolist())\n",
    "fimp_lr = pd.DataFrame(sorted(fimp_lr, key = lambda x: x[1], reverse=True), columns=['feature','importance']).set_index('feature')\n",
    "fimp_lr.sort_values(by = 'importance',ascending=True).plot(kind = 'barh')"
   ]
  },
  {
   "cell_type": "markdown",
   "metadata": {},
   "source": [
    "Combining results from two models, we'll use `listed_count`, `follower_count`, `statuses_count` and 3 network statistics as the indicators for influencer."
   ]
  },
  {
   "cell_type": "markdown",
   "metadata": {},
   "source": [
    "### Confusion Matrix"
   ]
  },
  {
   "cell_type": "code",
   "execution_count": 31,
   "metadata": {
    "ExecuteTime": {
     "end_time": "2018-02-05T14:37:31.412534Z",
     "start_time": "2018-02-05T14:37:31.403717Z"
    }
   },
   "outputs": [
    {
     "name": "stdout",
     "output_type": "stream",
     "text": [
      "[[626 193]\n",
      " [176 655]]\n"
     ]
    }
   ],
   "source": [
    "cm = confusion_matrix(y_test, y_pred_lr)\n",
    "print cm"
   ]
  },
  {
   "cell_type": "markdown",
   "metadata": {},
   "source": [
    "## Application"
   ]
  },
  {
   "cell_type": "markdown",
   "metadata": {},
   "source": [
    "When promoting a Public Relations plan, PR professionals usually reach out to the more influential twitter accounts to dissenminate promotinal content.\n",
    "\n",
    "Being able to reachout the influencers, not only reduces the cost but also allows the targeting message to be more customized, thus increasing the chance of conversion.\n",
    "\n",
    "By using our model, we will be able to identify the most important variables in determining whether a user is an influencer. Then, we will be able to focus the budget spend only on the influential twitter accounts. \n",
    "\n",
    "Since when a influencer tweets, their followers also have a higher chance of converting to a customer. Please refer to the next section for an example that showcases positive financial impact when using our test dataset."
   ]
  },
  {
   "cell_type": "markdown",
   "metadata": {},
   "source": [
    "## Financial Impact"
   ]
  },
  {
   "cell_type": "code",
   "execution_count": 32,
   "metadata": {
    "ExecuteTime": {
     "end_time": "2018-02-05T14:37:31.419257Z",
     "start_time": "2018-02-05T14:37:31.415173Z"
    }
   },
   "outputs": [],
   "source": [
    "#relevant cost and prob\n",
    "margin = 10\n",
    "p1 = 0.0005\n",
    "p2 = 0.00075\n",
    "cost = 10"
   ]
  },
  {
   "cell_type": "code",
   "execution_count": 33,
   "metadata": {
    "ExecuteTime": {
     "end_time": "2018-02-05T14:37:31.557537Z",
     "start_time": "2018-02-05T14:37:31.421352Z"
    }
   },
   "outputs": [
    {
     "data": {
      "text/html": [
       "<div>\n",
       "<style>\n",
       "    .dataframe thead tr:only-child th {\n",
       "        text-align: right;\n",
       "    }\n",
       "\n",
       "    .dataframe thead th {\n",
       "        text-align: left;\n",
       "    }\n",
       "\n",
       "    .dataframe tbody tr th {\n",
       "        vertical-align: top;\n",
       "    }\n",
       "</style>\n",
       "<table border=\"1\" class=\"dataframe\">\n",
       "  <thead>\n",
       "    <tr style=\"text-align: right;\">\n",
       "      <th></th>\n",
       "      <th>A_follower_count</th>\n",
       "      <th>B_follower_count</th>\n",
       "      <th>Choice</th>\n",
       "      <th>Prediction</th>\n",
       "      <th>Correct</th>\n",
       "    </tr>\n",
       "  </thead>\n",
       "  <tbody>\n",
       "    <tr>\n",
       "      <th>770</th>\n",
       "      <td>44034</td>\n",
       "      <td>1205166</td>\n",
       "      <td>0</td>\n",
       "      <td>1</td>\n",
       "      <td>False</td>\n",
       "    </tr>\n",
       "    <tr>\n",
       "      <th>1844</th>\n",
       "      <td>14003896</td>\n",
       "      <td>1279</td>\n",
       "      <td>1</td>\n",
       "      <td>1</td>\n",
       "      <td>True</td>\n",
       "    </tr>\n",
       "    <tr>\n",
       "      <th>3538</th>\n",
       "      <td>627949</td>\n",
       "      <td>750</td>\n",
       "      <td>0</td>\n",
       "      <td>1</td>\n",
       "      <td>False</td>\n",
       "    </tr>\n",
       "    <tr>\n",
       "      <th>608</th>\n",
       "      <td>58963</td>\n",
       "      <td>3601</td>\n",
       "      <td>0</td>\n",
       "      <td>1</td>\n",
       "      <td>False</td>\n",
       "    </tr>\n",
       "    <tr>\n",
       "      <th>3554</th>\n",
       "      <td>1641075</td>\n",
       "      <td>1834007</td>\n",
       "      <td>0</td>\n",
       "      <td>0</td>\n",
       "      <td>True</td>\n",
       "    </tr>\n",
       "  </tbody>\n",
       "</table>\n",
       "</div>"
      ],
      "text/plain": [
       "      A_follower_count  B_follower_count  Choice  Prediction  Correct\n",
       "770              44034           1205166       0           1    False\n",
       "1844          14003896              1279       1           1     True\n",
       "3538            627949               750       0           1    False\n",
       "608              58963              3601       0           1    False\n",
       "3554           1641075           1834007       0           0     True"
      ]
     },
     "execution_count": 33,
     "metadata": {},
     "output_type": "execute_result"
    }
   ],
   "source": [
    "#we used predictions from Logistic Regression to calculate financial impact\n",
    "financial = train.iloc[X_test.index.tolist(),:][['A_follower_count','B_follower_count','Choice']]\n",
    "financial['Prediction'] = y_pred_lr\n",
    "financial['Correct'] = (financial.Choice == financial.Prediction)\n",
    "financial.head()"
   ]
  },
  {
   "cell_type": "markdown",
   "metadata": {},
   "source": [
    "### Without Model"
   ]
  },
  {
   "cell_type": "code",
   "execution_count": 34,
   "metadata": {
    "ExecuteTime": {
     "end_time": "2018-02-05T14:37:31.567148Z",
     "start_time": "2018-02-05T14:37:31.559986Z"
    }
   },
   "outputs": [
    {
     "name": "stdout",
     "output_type": "stream",
     "text": [
      "Total net profit without the model prediction: $8474334.655\n"
     ]
    }
   ],
   "source": [
    "np_nomod = (financial.A_follower_count*financial.Choice + financial.B_follower_count*(1-financial.Choice))*p1*margin - cost\n",
    "np_nomod_sum = np_nomod.sum()\n",
    "print('Total net profit without the model prediction: $%s'%(np_nomod_sum))"
   ]
  },
  {
   "cell_type": "markdown",
   "metadata": {},
   "source": [
    "### With Model"
   ]
  },
  {
   "cell_type": "code",
   "execution_count": 35,
   "metadata": {
    "ExecuteTime": {
     "end_time": "2018-02-05T14:37:31.576177Z",
     "start_time": "2018-02-05T14:37:31.569230Z"
    }
   },
   "outputs": [
    {
     "name": "stdout",
     "output_type": "stream",
     "text": [
      "Total net profit with the model prediction: $12033633.3225\n"
     ]
    }
   ],
   "source": [
    "np_mod = financial.Correct*((financial.A_follower_count*financial.Prediction + financial.B_follower_count*(1-financial.Prediction)))*p2*margin - cost\n",
    "np_mod_sum = np_mod.sum()\n",
    "print('Total net profit with the model prediction: $%s'%(np_mod_sum))"
   ]
  },
  {
   "cell_type": "markdown",
   "metadata": {},
   "source": [
    "### Perfect Model"
   ]
  },
  {
   "cell_type": "code",
   "execution_count": 36,
   "metadata": {
    "ExecuteTime": {
     "end_time": "2018-02-05T14:37:31.585057Z",
     "start_time": "2018-02-05T14:37:31.578134Z"
    }
   },
   "outputs": [
    {
     "name": "stdout",
     "output_type": "stream",
     "text": [
      "Total net profit with the perfect model prediction: $14292657.5475\n"
     ]
    }
   ],
   "source": [
    "np_pmod = ((financial.A_follower_count*financial.Prediction + financial.B_follower_count*(1-financial.Prediction)))*p2*margin - cost\n",
    "np_pmod_sum = np_pmod.sum()\n",
    "print('Total net profit with the perfect model prediction: $%s'%(np_pmod_sum))"
   ]
  },
  {
   "cell_type": "markdown",
   "metadata": {},
   "source": [
    "### Lift "
   ]
  },
  {
   "cell_type": "code",
   "execution_count": 37,
   "metadata": {
    "ExecuteTime": {
     "end_time": "2018-02-05T14:37:31.596593Z",
     "start_time": "2018-02-05T14:37:31.587995Z"
    }
   },
   "outputs": [
    {
     "name": "stdout",
     "output_type": "stream",
     "text": [
      "Lift from using our classification model = 1.42\n",
      "Lift from using a perfect classification model = 1.6866\n"
     ]
    }
   ],
   "source": [
    "lift_mod = round(np_mod_sum*1.0/np_nomod_sum,4)\n",
    "lift_pmod = round(np_pmod_sum*1.0/np_nomod_sum,4)\n",
    "\n",
    "print 'Lift from using our classification model = {}'.format(lift_mod)\n",
    "print 'Lift from using a perfect classification model = {}'.format(lift_pmod)\n"
   ]
  },
  {
   "cell_type": "markdown",
   "metadata": {},
   "source": [
    "# PART II"
   ]
  },
  {
   "cell_type": "markdown",
   "metadata": {},
   "source": [
    "### tweets streaming in separate py file (please see attached files)"
   ]
  },
  {
   "cell_type": "markdown",
   "metadata": {},
   "source": [
    "### search word: *grammy*"
   ]
  },
  {
   "cell_type": "code",
   "execution_count": 38,
   "metadata": {
    "ExecuteTime": {
     "end_time": "2018-02-05T14:37:38.650716Z",
     "start_time": "2018-02-05T14:37:31.599924Z"
    },
    "scrolled": false
   },
   "outputs": [],
   "source": [
    "import json\n",
    "f = open('data/stream_grammy.json')\n",
    "lines = f.readlines()\n",
    "tweets = []\n",
    "for l in lines:\n",
    "    tweets.append(json.loads(l))\n",
    "tweets = tweets[:5000]"
   ]
  },
  {
   "cell_type": "code",
   "execution_count": 39,
   "metadata": {
    "ExecuteTime": {
     "end_time": "2018-02-05T14:37:38.660672Z",
     "start_time": "2018-02-05T14:37:38.654878Z"
    },
    "scrolled": true
   },
   "outputs": [],
   "source": [
    "n = len(tweets)"
   ]
  },
  {
   "cell_type": "code",
   "execution_count": 40,
   "metadata": {
    "ExecuteTime": {
     "end_time": "2018-02-05T14:37:38.674332Z",
     "start_time": "2018-02-05T14:37:38.666451Z"
    }
   },
   "outputs": [],
   "source": [
    "user1 = []\n",
    "user2 = []\n",
    "tweet_type = []\n",
    "tweet_text = []"
   ]
  },
  {
   "cell_type": "code",
   "execution_count": 41,
   "metadata": {
    "ExecuteTime": {
     "end_time": "2018-02-05T14:37:38.908581Z",
     "start_time": "2018-02-05T14:37:38.677898Z"
    }
   },
   "outputs": [],
   "source": [
    "for i in range(n):\n",
    "    user_rt = ''\n",
    "    user_reply = ''\n",
    "    user_tw = tweets[i]['user']['screen_name']\n",
    "    txt = tweets[i]['text']\n",
    "    if tweets[i]['entities']['user_mentions']: #if any @ in tweets\n",
    "        user_mentioned = [m['screen_name'] for m in tweets[i]['entities']['user_mentions']] #store all @ screen names \n",
    "        if 'retweeted_status' in tweets[i].keys(): #if RT\n",
    "            user_rt = tweets[i]['retweeted_status']['user']['screen_name'] \n",
    "            user1.append(user_tw) #add one more link for RT\n",
    "            user2.append(user_rt)\n",
    "            tweet_type.append('RT')\n",
    "            tweet_text.append(txt)\n",
    "            user1.append(user_rt) #add one more link for og tweet, drop dup later\n",
    "            user2.append(user_rt)\n",
    "            tweet_type.append('tweet')\n",
    "            tweet_text.append(tweets[i]['retweeted_status']['text'])\n",
    "        elif tweets[i]['in_reply_to_screen_name']:\n",
    "            user_reply = tweets[i]['in_reply_to_screen_name']\n",
    "            user1.append(user_tw) #add one more link for reply\n",
    "            user2.append(user_reply)\n",
    "            tweet_type.append('reply')\n",
    "            tweet_text.append(txt)\n",
    "        for u in [user for user in user_mentioned if (user != user_rt and user != user_reply)]:\n",
    "            user1.append(user_tw) #add one more link for mention (exclude RT, reply)\n",
    "            user2.append(u)\n",
    "            tweet_type.append('mention')\n",
    "            tweet_text.append(txt)\n",
    "    else: #if no @ in tweet\n",
    "        user1.append(user_tw)\n",
    "        user2.append(user_tw)\n",
    "        tweet_type.append('tweet')\n",
    "        tweet_text.append(txt)"
   ]
  },
  {
   "cell_type": "code",
   "execution_count": 42,
   "metadata": {
    "ExecuteTime": {
     "end_time": "2018-02-05T14:37:38.936658Z",
     "start_time": "2018-02-05T14:37:38.912762Z"
    }
   },
   "outputs": [],
   "source": [
    "tweet_df = pd.DataFrame(zip(user1,user2,tweet_type,tweet_text),columns = ['user1','user2','type','text'])"
   ]
  },
  {
   "cell_type": "code",
   "execution_count": 43,
   "metadata": {
    "ExecuteTime": {
     "end_time": "2018-02-05T14:37:39.008769Z",
     "start_time": "2018-02-05T14:37:38.953287Z"
    }
   },
   "outputs": [],
   "source": [
    "tweet_df = tweet_df.drop_duplicates()[['user1','user2','type']]"
   ]
  },
  {
   "cell_type": "code",
   "execution_count": 44,
   "metadata": {
    "ExecuteTime": {
     "end_time": "2018-02-05T14:37:39.034243Z",
     "start_time": "2018-02-05T14:37:39.012917Z"
    }
   },
   "outputs": [
    {
     "data": {
      "text/html": [
       "<div>\n",
       "<style>\n",
       "    .dataframe thead tr:only-child th {\n",
       "        text-align: right;\n",
       "    }\n",
       "\n",
       "    .dataframe thead th {\n",
       "        text-align: left;\n",
       "    }\n",
       "\n",
       "    .dataframe tbody tr th {\n",
       "        vertical-align: top;\n",
       "    }\n",
       "</style>\n",
       "<table border=\"1\" class=\"dataframe\">\n",
       "  <thead>\n",
       "    <tr style=\"text-align: right;\">\n",
       "      <th></th>\n",
       "      <th>user1</th>\n",
       "      <th>user2</th>\n",
       "      <th>type</th>\n",
       "    </tr>\n",
       "  </thead>\n",
       "  <tbody>\n",
       "    <tr>\n",
       "      <th>0</th>\n",
       "      <td>RubberD01</td>\n",
       "      <td>LawyerRogelio</td>\n",
       "      <td>RT</td>\n",
       "    </tr>\n",
       "    <tr>\n",
       "      <th>1</th>\n",
       "      <td>LawyerRogelio</td>\n",
       "      <td>LawyerRogelio</td>\n",
       "      <td>tweet</td>\n",
       "    </tr>\n",
       "    <tr>\n",
       "      <th>2</th>\n",
       "      <td>Herzlinie</td>\n",
       "      <td>majortomzin</td>\n",
       "      <td>RT</td>\n",
       "    </tr>\n",
       "    <tr>\n",
       "      <th>3</th>\n",
       "      <td>majortomzin</td>\n",
       "      <td>majortomzin</td>\n",
       "      <td>tweet</td>\n",
       "    </tr>\n",
       "    <tr>\n",
       "      <th>4</th>\n",
       "      <td>PhilReality</td>\n",
       "      <td>PhilReality</td>\n",
       "      <td>tweet</td>\n",
       "    </tr>\n",
       "  </tbody>\n",
       "</table>\n",
       "</div>"
      ],
      "text/plain": [
       "           user1          user2   type\n",
       "0      RubberD01  LawyerRogelio     RT\n",
       "1  LawyerRogelio  LawyerRogelio  tweet\n",
       "2      Herzlinie    majortomzin     RT\n",
       "3    majortomzin    majortomzin  tweet\n",
       "4    PhilReality    PhilReality  tweet"
      ]
     },
     "execution_count": 44,
     "metadata": {},
     "output_type": "execute_result"
    }
   ],
   "source": [
    "tweet_df.head()"
   ]
  },
  {
   "cell_type": "code",
   "execution_count": 45,
   "metadata": {
    "ExecuteTime": {
     "end_time": "2018-02-05T14:37:39.093303Z",
     "start_time": "2018-02-05T14:37:39.039387Z"
    }
   },
   "outputs": [],
   "source": [
    "tweet_df.to_csv('output/grammy.csv')"
   ]
  },
  {
   "cell_type": "markdown",
   "metadata": {},
   "source": [
    "### calculate centrality, betweenness, closeness"
   ]
  },
  {
   "cell_type": "code",
   "execution_count": 46,
   "metadata": {
    "ExecuteTime": {
     "end_time": "2018-02-05T14:37:39.149704Z",
     "start_time": "2018-02-05T14:37:39.098230Z"
    },
    "scrolled": true
   },
   "outputs": [],
   "source": [
    "tweet_link = tweet_df.groupby(['user1','user2']).count().reset_index()"
   ]
  },
  {
   "cell_type": "code",
   "execution_count": 47,
   "metadata": {
    "ExecuteTime": {
     "end_time": "2018-02-05T14:37:39.165196Z",
     "start_time": "2018-02-05T14:37:39.152146Z"
    }
   },
   "outputs": [],
   "source": [
    "user_from = tweet_link.user1.tolist()\n",
    "user_to = tweet_link.user2.tolist()\n",
    "weight = tweet_link.type.tolist()"
   ]
  },
  {
   "cell_type": "code",
   "execution_count": 48,
   "metadata": {
    "ExecuteTime": {
     "end_time": "2018-02-05T14:37:39.495917Z",
     "start_time": "2018-02-05T14:37:39.171215Z"
    }
   },
   "outputs": [],
   "source": [
    "import networkx as nx\n",
    "G = nx.DiGraph()"
   ]
  },
  {
   "cell_type": "code",
   "execution_count": 49,
   "metadata": {
    "ExecuteTime": {
     "end_time": "2018-02-05T14:37:39.541286Z",
     "start_time": "2018-02-05T14:37:39.497936Z"
    }
   },
   "outputs": [],
   "source": [
    "for i in range(len(user_from)):\n",
    "    G.add_edge(user_from[i],user_to[i], weight = weight[i])"
   ]
  },
  {
   "cell_type": "code",
   "execution_count": 50,
   "metadata": {
    "ExecuteTime": {
     "end_time": "2018-02-05T14:37:39.547025Z",
     "start_time": "2018-02-05T14:37:39.543653Z"
    }
   },
   "outputs": [],
   "source": [
    "users = G.nodes"
   ]
  },
  {
   "cell_type": "code",
   "execution_count": 51,
   "metadata": {
    "ExecuteTime": {
     "end_time": "2018-02-05T14:39:10.631192Z",
     "start_time": "2018-02-05T14:37:39.549911Z"
    }
   },
   "outputs": [],
   "source": [
    "degree = nx.degree_centrality(G)\n",
    "between = nx.betweenness_centrality(G)\n",
    "close = nx.closeness_centrality(G)"
   ]
  },
  {
   "cell_type": "code",
   "execution_count": 52,
   "metadata": {
    "ExecuteTime": {
     "end_time": "2018-02-05T14:39:10.650573Z",
     "start_time": "2018-02-05T14:39:10.633826Z"
    }
   },
   "outputs": [],
   "source": [
    "user_stats_central = pd.DataFrame(zip(users,degree.values(),between.values(),close.values()),columns = ['user_name','degree','between','close'])"
   ]
  },
  {
   "cell_type": "code",
   "execution_count": 53,
   "metadata": {
    "ExecuteTime": {
     "end_time": "2018-02-05T14:39:10.673930Z",
     "start_time": "2018-02-05T14:39:10.654202Z"
    }
   },
   "outputs": [
    {
     "data": {
      "text/html": [
       "<div>\n",
       "<style>\n",
       "    .dataframe thead tr:only-child th {\n",
       "        text-align: right;\n",
       "    }\n",
       "\n",
       "    .dataframe thead th {\n",
       "        text-align: left;\n",
       "    }\n",
       "\n",
       "    .dataframe tbody tr th {\n",
       "        vertical-align: top;\n",
       "    }\n",
       "</style>\n",
       "<table border=\"1\" class=\"dataframe\">\n",
       "  <thead>\n",
       "    <tr style=\"text-align: right;\">\n",
       "      <th></th>\n",
       "      <th>user_name</th>\n",
       "      <th>degree</th>\n",
       "      <th>between</th>\n",
       "      <th>close</th>\n",
       "    </tr>\n",
       "  </thead>\n",
       "  <tbody>\n",
       "    <tr>\n",
       "      <th>0</th>\n",
       "      <td>skeletonsugar</td>\n",
       "      <td>0.000180</td>\n",
       "      <td>0.000000e+00</td>\n",
       "      <td>0.00000</td>\n",
       "    </tr>\n",
       "    <tr>\n",
       "      <th>1</th>\n",
       "      <td>StacyBrewer18</td>\n",
       "      <td>0.000180</td>\n",
       "      <td>0.000000e+00</td>\n",
       "      <td>0.00000</td>\n",
       "    </tr>\n",
       "    <tr>\n",
       "      <th>2</th>\n",
       "      <td>butteredclam</td>\n",
       "      <td>0.000359</td>\n",
       "      <td>0.000000e+00</td>\n",
       "      <td>0.00000</td>\n",
       "    </tr>\n",
       "    <tr>\n",
       "      <th>3</th>\n",
       "      <td>DoroSahn</td>\n",
       "      <td>0.000180</td>\n",
       "      <td>0.000000e+00</td>\n",
       "      <td>0.00000</td>\n",
       "    </tr>\n",
       "    <tr>\n",
       "      <th>4</th>\n",
       "      <td>switchspears</td>\n",
       "      <td>0.000718</td>\n",
       "      <td>3.223796e-08</td>\n",
       "      <td>0.00018</td>\n",
       "    </tr>\n",
       "  </tbody>\n",
       "</table>\n",
       "</div>"
      ],
      "text/plain": [
       "       user_name    degree       between    close\n",
       "0  skeletonsugar  0.000180  0.000000e+00  0.00000\n",
       "1  StacyBrewer18  0.000180  0.000000e+00  0.00000\n",
       "2   butteredclam  0.000359  0.000000e+00  0.00000\n",
       "3       DoroSahn  0.000180  0.000000e+00  0.00000\n",
       "4   switchspears  0.000718  3.223796e-08  0.00018"
      ]
     },
     "execution_count": 53,
     "metadata": {},
     "output_type": "execute_result"
    }
   ],
   "source": [
    "user_stats_central.head()"
   ]
  },
  {
   "cell_type": "markdown",
   "metadata": {},
   "source": [
    "### User Stats (listed_count, follower_count, statuses_count)"
   ]
  },
  {
   "cell_type": "code",
   "execution_count": 54,
   "metadata": {
    "ExecuteTime": {
     "end_time": "2018-02-05T14:39:10.839071Z",
     "start_time": "2018-02-05T14:39:10.677566Z"
    }
   },
   "outputs": [],
   "source": [
    "user_stats = {}\n",
    "for i in range(n):\n",
    "    user_tw = tweets[i]['user']['screen_name']\n",
    "    if 'retweeted_status' in tweets[i].keys():\n",
    "        user_rt = tweets[i]['retweeted_status']['user']['screen_name']\n",
    "    if user_tw not in user_stats:\n",
    "        user_stats[user_tw] = {}\n",
    "        user_stats[user_tw]['listed_count'] = tweets[i]['user']['listed_count']\n",
    "        user_stats[user_tw]['followers_count'] = tweets[i]['user']['followers_count']\n",
    "        user_stats[user_tw]['statuses_count'] = tweets[i]['user']['statuses_count']\n",
    "    if user_rt not in user_stats:\n",
    "        user_stats[user_rt] = {}\n",
    "        user_stats[user_rt]['listed_count'] = tweets[i]['retweeted_status']['user']['listed_count']\n",
    "        user_stats[user_rt]['followers_count'] = tweets[i]['retweeted_status']['user']['followers_count']\n",
    "        user_stats[user_rt]['statuses_count'] = tweets[i]['retweeted_status']['user']['statuses_count']"
   ]
  },
  {
   "cell_type": "code",
   "execution_count": 55,
   "metadata": {
    "ExecuteTime": {
     "end_time": "2018-02-05T14:39:11.475924Z",
     "start_time": "2018-02-05T14:39:10.843479Z"
    }
   },
   "outputs": [],
   "source": [
    "user_stats_api = pd.DataFrame.from_dict({i: user_stats[i] for i in user_stats.keys()},orient='index').drop_duplicates()\n",
    "user_stats_api = user_stats_api.reset_index()\n",
    "user_stats_api.columns = ['user_name','listed_count','followers_count','statuses_count']"
   ]
  },
  {
   "cell_type": "code",
   "execution_count": 56,
   "metadata": {
    "ExecuteTime": {
     "end_time": "2018-02-05T14:39:11.494010Z",
     "start_time": "2018-02-05T14:39:11.477969Z"
    }
   },
   "outputs": [
    {
     "data": {
      "text/html": [
       "<div>\n",
       "<style>\n",
       "    .dataframe thead tr:only-child th {\n",
       "        text-align: right;\n",
       "    }\n",
       "\n",
       "    .dataframe thead th {\n",
       "        text-align: left;\n",
       "    }\n",
       "\n",
       "    .dataframe tbody tr th {\n",
       "        vertical-align: top;\n",
       "    }\n",
       "</style>\n",
       "<table border=\"1\" class=\"dataframe\">\n",
       "  <thead>\n",
       "    <tr style=\"text-align: right;\">\n",
       "      <th></th>\n",
       "      <th>user_name</th>\n",
       "      <th>listed_count</th>\n",
       "      <th>followers_count</th>\n",
       "      <th>statuses_count</th>\n",
       "    </tr>\n",
       "  </thead>\n",
       "  <tbody>\n",
       "    <tr>\n",
       "      <th>0</th>\n",
       "      <td>00lightwoodia</td>\n",
       "      <td>340</td>\n",
       "      <td>16766</td>\n",
       "      <td>4</td>\n",
       "    </tr>\n",
       "    <tr>\n",
       "      <th>1</th>\n",
       "      <td>01jodis</td>\n",
       "      <td>113</td>\n",
       "      <td>4024</td>\n",
       "      <td>2</td>\n",
       "    </tr>\n",
       "    <tr>\n",
       "      <th>2</th>\n",
       "      <td>087JAYBUM</td>\n",
       "      <td>467</td>\n",
       "      <td>4395</td>\n",
       "      <td>3</td>\n",
       "    </tr>\n",
       "    <tr>\n",
       "      <th>3</th>\n",
       "      <td>0nefinity</td>\n",
       "      <td>2055</td>\n",
       "      <td>357118</td>\n",
       "      <td>160</td>\n",
       "    </tr>\n",
       "    <tr>\n",
       "      <th>4</th>\n",
       "      <td>1000alana</td>\n",
       "      <td>278</td>\n",
       "      <td>39757</td>\n",
       "      <td>0</td>\n",
       "    </tr>\n",
       "  </tbody>\n",
       "</table>\n",
       "</div>"
      ],
      "text/plain": [
       "       user_name  listed_count  followers_count  statuses_count\n",
       "0  00lightwoodia           340            16766               4\n",
       "1        01jodis           113             4024               2\n",
       "2      087JAYBUM           467             4395               3\n",
       "3      0nefinity          2055           357118             160\n",
       "4      1000alana           278            39757               0"
      ]
     },
     "execution_count": 56,
     "metadata": {},
     "output_type": "execute_result"
    }
   ],
   "source": [
    "user_stats_api.head()"
   ]
  },
  {
   "cell_type": "markdown",
   "metadata": {},
   "source": [
    "### Merge two dataframes (api stats and centrality)"
   ]
  },
  {
   "cell_type": "code",
   "execution_count": 57,
   "metadata": {
    "ExecuteTime": {
     "end_time": "2018-02-05T14:39:11.514933Z",
     "start_time": "2018-02-05T14:39:11.497445Z"
    },
    "scrolled": false
   },
   "outputs": [],
   "source": [
    "user_stats_overall = user_stats_api.merge(user_stats_central,left_on='user_name',right_on='user_name')"
   ]
  },
  {
   "cell_type": "code",
   "execution_count": 58,
   "metadata": {
    "ExecuteTime": {
     "end_time": "2018-02-05T14:39:11.521670Z",
     "start_time": "2018-02-05T14:39:11.517835Z"
    }
   },
   "outputs": [],
   "source": [
    "w = [0.3,0.25,0.15,0.3]"
   ]
  },
  {
   "cell_type": "code",
   "execution_count": 59,
   "metadata": {
    "ExecuteTime": {
     "end_time": "2018-02-05T14:39:11.535140Z",
     "start_time": "2018-02-05T14:39:11.525037Z"
    }
   },
   "outputs": [],
   "source": [
    "user_factor = user_stats_overall\n",
    "user_factor['central'] = user_factor.degree + user_factor.between + user_factor.close\n",
    "user_factor = user_factor.drop(['degree','between','close'],axis = 1)"
   ]
  },
  {
   "cell_type": "code",
   "execution_count": 60,
   "metadata": {
    "ExecuteTime": {
     "end_time": "2018-02-05T14:39:11.612455Z",
     "start_time": "2018-02-05T14:39:11.538226Z"
    }
   },
   "outputs": [],
   "source": [
    "scaler = StandardScaler() #standardize\n",
    "user_factor_norm = pd.DataFrame(scaler.fit_transform(user_factor[['listed_count','followers_count','statuses_count','central']]))\n",
    "user_factor_norm['user_name'] = user_factor['user_name']\n",
    "user_factor_norm['score'] = user_factor_norm.iloc[:,0]*w[0] + user_factor_norm.iloc[:,1]*w[1] + user_factor_norm.iloc[:,2]*w[2] + user_factor_norm.iloc[:,3]*w[3]\n",
    "user_factor_norm.columns = ['listed_count','followers_count','statuses_count','central','user_name','score']\n",
    "result = user_factor_norm[['user_name','score','listed_count','followers_count','statuses_count','central']].sort_values(by = 'score', ascending = False)[:50]"
   ]
  },
  {
   "cell_type": "code",
   "execution_count": 61,
   "metadata": {
    "ExecuteTime": {
     "end_time": "2018-02-05T14:39:11.713696Z",
     "start_time": "2018-02-05T14:39:11.619176Z"
    }
   },
   "outputs": [
    {
     "data": {
      "text/html": [
       "<div>\n",
       "<style>\n",
       "    .dataframe thead tr:only-child th {\n",
       "        text-align: right;\n",
       "    }\n",
       "\n",
       "    .dataframe thead th {\n",
       "        text-align: left;\n",
       "    }\n",
       "\n",
       "    .dataframe tbody tr th {\n",
       "        vertical-align: top;\n",
       "    }\n",
       "</style>\n",
       "<table border=\"1\" class=\"dataframe\">\n",
       "  <thead>\n",
       "    <tr style=\"text-align: right;\">\n",
       "      <th></th>\n",
       "      <th>user_name</th>\n",
       "      <th>score</th>\n",
       "      <th>listed_count</th>\n",
       "      <th>followers_count</th>\n",
       "      <th>statuses_count</th>\n",
       "      <th>central</th>\n",
       "    </tr>\n",
       "  </thead>\n",
       "  <tbody>\n",
       "    <tr>\n",
       "      <th>3860</th>\n",
       "      <td>ladygaga</td>\n",
       "      <td>25.456250</td>\n",
       "      <td>56.007645</td>\n",
       "      <td>-0.188352</td>\n",
       "      <td>58.230480</td>\n",
       "      <td>-0.111757</td>\n",
       "    </tr>\n",
       "    <tr>\n",
       "      <th>4748</th>\n",
       "      <td>shakira</td>\n",
       "      <td>14.950998</td>\n",
       "      <td>37.085088</td>\n",
       "      <td>-0.212359</td>\n",
       "      <td>26.080592</td>\n",
       "      <td>-0.111757</td>\n",
       "    </tr>\n",
       "    <tr>\n",
       "      <th>4351</th>\n",
       "      <td>notiven</td>\n",
       "      <td>14.847655</td>\n",
       "      <td>-0.022378</td>\n",
       "      <td>59.388918</td>\n",
       "      <td>0.271110</td>\n",
       "      <td>-0.111757</td>\n",
       "    </tr>\n",
       "    <tr>\n",
       "      <th>2708</th>\n",
       "      <td>bombgoddess_</td>\n",
       "      <td>12.107594</td>\n",
       "      <td>-0.060331</td>\n",
       "      <td>0.031658</td>\n",
       "      <td>-0.069747</td>\n",
       "      <td>40.427468</td>\n",
       "    </tr>\n",
       "    <tr>\n",
       "      <th>1602</th>\n",
       "      <td>PotatochiplfeV2</td>\n",
       "      <td>8.287463</td>\n",
       "      <td>-0.060857</td>\n",
       "      <td>-0.210386</td>\n",
       "      <td>-0.070263</td>\n",
       "      <td>27.896188</td>\n",
       "    </tr>\n",
       "    <tr>\n",
       "      <th>557</th>\n",
       "      <td>Diddy</td>\n",
       "      <td>7.720085</td>\n",
       "      <td>10.424958</td>\n",
       "      <td>0.034645</td>\n",
       "      <td>8.826571</td>\n",
       "      <td>10.866501</td>\n",
       "    </tr>\n",
       "    <tr>\n",
       "      <th>3727</th>\n",
       "      <td>julizivic</td>\n",
       "      <td>7.516610</td>\n",
       "      <td>-0.060417</td>\n",
       "      <td>-0.209549</td>\n",
       "      <td>-0.070521</td>\n",
       "      <td>25.325670</td>\n",
       "    </tr>\n",
       "    <tr>\n",
       "      <th>4559</th>\n",
       "      <td>rachlack</td>\n",
       "      <td>6.100132</td>\n",
       "      <td>-0.060402</td>\n",
       "      <td>-0.220957</td>\n",
       "      <td>-0.069489</td>\n",
       "      <td>20.613052</td>\n",
       "    </tr>\n",
       "    <tr>\n",
       "      <th>1633</th>\n",
       "      <td>RATEDRIANA</td>\n",
       "      <td>6.067594</td>\n",
       "      <td>-0.060614</td>\n",
       "      <td>-0.221865</td>\n",
       "      <td>-0.070263</td>\n",
       "      <td>20.505947</td>\n",
       "    </tr>\n",
       "    <tr>\n",
       "      <th>183</th>\n",
       "      <td>Asimon301</td>\n",
       "      <td>5.453360</td>\n",
       "      <td>-0.060773</td>\n",
       "      <td>-0.236308</td>\n",
       "      <td>-0.070778</td>\n",
       "      <td>18.470952</td>\n",
       "    </tr>\n",
       "    <tr>\n",
       "      <th>2004</th>\n",
       "      <td>TheOnion</td>\n",
       "      <td>5.298059</td>\n",
       "      <td>8.065565</td>\n",
       "      <td>0.156891</td>\n",
       "      <td>19.151292</td>\n",
       "      <td>-0.111757</td>\n",
       "    </tr>\n",
       "    <tr>\n",
       "      <th>379</th>\n",
       "      <td>CaraotaDigital</td>\n",
       "      <td>4.597221</td>\n",
       "      <td>0.697367</td>\n",
       "      <td>17.221296</td>\n",
       "      <td>0.667659</td>\n",
       "      <td>-0.058205</td>\n",
       "    </tr>\n",
       "    <tr>\n",
       "      <th>1429</th>\n",
       "      <td>N24_carabobo</td>\n",
       "      <td>4.277613</td>\n",
       "      <td>0.178553</td>\n",
       "      <td>16.872208</td>\n",
       "      <td>0.156374</td>\n",
       "      <td>-0.058205</td>\n",
       "    </tr>\n",
       "    <tr>\n",
       "      <th>3281</th>\n",
       "      <td>g1</td>\n",
       "      <td>3.762584</td>\n",
       "      <td>7.015567</td>\n",
       "      <td>3.951250</td>\n",
       "      <td>4.476647</td>\n",
       "      <td>-0.004652</td>\n",
       "    </tr>\n",
       "    <tr>\n",
       "      <th>4350</th>\n",
       "      <td>noticias24</td>\n",
       "      <td>3.566777</td>\n",
       "      <td>2.229988</td>\n",
       "      <td>9.341838</td>\n",
       "      <td>3.972323</td>\n",
       "      <td>-0.111757</td>\n",
       "    </tr>\n",
       "    <tr>\n",
       "      <th>340</th>\n",
       "      <td>CBSNews</td>\n",
       "      <td>3.396765</td>\n",
       "      <td>4.611217</td>\n",
       "      <td>0.889012</td>\n",
       "      <td>12.164496</td>\n",
       "      <td>-0.111757</td>\n",
       "    </tr>\n",
       "    <tr>\n",
       "      <th>1920</th>\n",
       "      <td>SweetSin6</td>\n",
       "      <td>3.361879</td>\n",
       "      <td>-0.060687</td>\n",
       "      <td>-0.248305</td>\n",
       "      <td>-0.070521</td>\n",
       "      <td>11.509130</td>\n",
       "    </tr>\n",
       "    <tr>\n",
       "      <th>2092</th>\n",
       "      <td>UNTPrez</td>\n",
       "      <td>3.261325</td>\n",
       "      <td>-0.051632</td>\n",
       "      <td>-0.173426</td>\n",
       "      <td>-0.026947</td>\n",
       "      <td>11.080711</td>\n",
       "    </tr>\n",
       "    <tr>\n",
       "      <th>4472</th>\n",
       "      <td>people</td>\n",
       "      <td>3.257293</td>\n",
       "      <td>5.708944</td>\n",
       "      <td>1.142223</td>\n",
       "      <td>8.617210</td>\n",
       "      <td>-0.111757</td>\n",
       "    </tr>\n",
       "    <tr>\n",
       "      <th>5063</th>\n",
       "      <td>twinkain</td>\n",
       "      <td>3.233806</td>\n",
       "      <td>-0.060835</td>\n",
       "      <td>-0.248539</td>\n",
       "      <td>-0.070778</td>\n",
       "      <td>11.082694</td>\n",
       "    </tr>\n",
       "    <tr>\n",
       "      <th>1497</th>\n",
       "      <td>NoticiasCaracol</td>\n",
       "      <td>3.212451</td>\n",
       "      <td>5.699374</td>\n",
       "      <td>3.470587</td>\n",
       "      <td>4.456794</td>\n",
       "      <td>-0.111757</td>\n",
       "    </tr>\n",
       "    <tr>\n",
       "      <th>2187</th>\n",
       "      <td>YG</td>\n",
       "      <td>3.159950</td>\n",
       "      <td>1.792335</td>\n",
       "      <td>0.006247</td>\n",
       "      <td>0.665081</td>\n",
       "      <td>8.403087</td>\n",
       "    </tr>\n",
       "    <tr>\n",
       "      <th>889</th>\n",
       "      <td>Info24US</td>\n",
       "      <td>2.753980</td>\n",
       "      <td>-0.047513</td>\n",
       "      <td>9.988291</td>\n",
       "      <td>-0.003741</td>\n",
       "      <td>0.905740</td>\n",
       "    </tr>\n",
       "    <tr>\n",
       "      <th>603</th>\n",
       "      <td>EW</td>\n",
       "      <td>2.734769</td>\n",
       "      <td>4.881299</td>\n",
       "      <td>1.173345</td>\n",
       "      <td>6.415820</td>\n",
       "      <td>0.048900</td>\n",
       "    </tr>\n",
       "    <tr>\n",
       "      <th>1528</th>\n",
       "      <td>Oldlady12345</td>\n",
       "      <td>2.603935</td>\n",
       "      <td>-0.057304</td>\n",
       "      <td>10.554339</td>\n",
       "      <td>0.107127</td>\n",
       "      <td>-0.111757</td>\n",
       "    </tr>\n",
       "    <tr>\n",
       "      <th>600</th>\n",
       "      <td>ELTIEMPO</td>\n",
       "      <td>2.600028</td>\n",
       "      <td>4.524408</td>\n",
       "      <td>2.741588</td>\n",
       "      <td>3.831803</td>\n",
       "      <td>-0.058205</td>\n",
       "    </tr>\n",
       "    <tr>\n",
       "      <th>4743</th>\n",
       "      <td>sgaddaapollonio</td>\n",
       "      <td>2.485210</td>\n",
       "      <td>-0.055738</td>\n",
       "      <td>-0.041092</td>\n",
       "      <td>-0.058144</td>\n",
       "      <td>8.403087</td>\n",
       "    </tr>\n",
       "    <tr>\n",
       "      <th>2672</th>\n",
       "      <td>billboard</td>\n",
       "      <td>2.415180</td>\n",
       "      <td>4.533355</td>\n",
       "      <td>0.954810</td>\n",
       "      <td>5.559552</td>\n",
       "      <td>-0.058205</td>\n",
       "    </tr>\n",
       "    <tr>\n",
       "      <th>598</th>\n",
       "      <td>ELLEmagazine</td>\n",
       "      <td>2.398155</td>\n",
       "      <td>4.955721</td>\n",
       "      <td>0.822838</td>\n",
       "      <td>4.928373</td>\n",
       "      <td>-0.111757</td>\n",
       "    </tr>\n",
       "    <tr>\n",
       "      <th>1011</th>\n",
       "      <td>JornalOGlobo</td>\n",
       "      <td>2.135631</td>\n",
       "      <td>3.988618</td>\n",
       "      <td>1.895038</td>\n",
       "      <td>2.789894</td>\n",
       "      <td>0.156005</td>\n",
       "    </tr>\n",
       "    <tr>\n",
       "      <th>659</th>\n",
       "      <td>Estadao</td>\n",
       "      <td>2.110509</td>\n",
       "      <td>4.325212</td>\n",
       "      <td>1.665791</td>\n",
       "      <td>2.759728</td>\n",
       "      <td>-0.058205</td>\n",
       "    </tr>\n",
       "    <tr>\n",
       "      <th>4493</th>\n",
       "      <td>pitchfork</td>\n",
       "      <td>2.102874</td>\n",
       "      <td>2.520017</td>\n",
       "      <td>0.307634</td>\n",
       "      <td>8.689919</td>\n",
       "      <td>-0.111757</td>\n",
       "    </tr>\n",
       "    <tr>\n",
       "      <th>2607</th>\n",
       "      <td>b4dmoonlight</td>\n",
       "      <td>2.069748</td>\n",
       "      <td>-0.059492</td>\n",
       "      <td>0.101081</td>\n",
       "      <td>-0.058402</td>\n",
       "      <td>6.903617</td>\n",
       "    </tr>\n",
       "    <tr>\n",
       "      <th>3397</th>\n",
       "      <td>halsey</td>\n",
       "      <td>2.049877</td>\n",
       "      <td>6.172952</td>\n",
       "      <td>-0.161146</td>\n",
       "      <td>1.704927</td>\n",
       "      <td>-0.058205</td>\n",
       "    </tr>\n",
       "    <tr>\n",
       "      <th>201</th>\n",
       "      <td>BETMusic</td>\n",
       "      <td>1.978967</td>\n",
       "      <td>4.441573</td>\n",
       "      <td>-0.035857</td>\n",
       "      <td>4.271927</td>\n",
       "      <td>0.048900</td>\n",
       "    </tr>\n",
       "    <tr>\n",
       "      <th>716</th>\n",
       "      <td>FreddyAmazin</td>\n",
       "      <td>1.943277</td>\n",
       "      <td>3.759270</td>\n",
       "      <td>0.570812</td>\n",
       "      <td>4.601697</td>\n",
       "      <td>-0.058205</td>\n",
       "    </tr>\n",
       "    <tr>\n",
       "      <th>273</th>\n",
       "      <td>BillOReilly</td>\n",
       "      <td>1.893373</td>\n",
       "      <td>1.836266</td>\n",
       "      <td>-0.165700</td>\n",
       "      <td>2.916233</td>\n",
       "      <td>3.154944</td>\n",
       "    </tr>\n",
       "    <tr>\n",
       "      <th>621</th>\n",
       "      <td>El_Cooperante</td>\n",
       "      <td>1.859677</td>\n",
       "      <td>0.236183</td>\n",
       "      <td>7.023079</td>\n",
       "      <td>0.443859</td>\n",
       "      <td>-0.111757</td>\n",
       "    </tr>\n",
       "    <tr>\n",
       "      <th>364</th>\n",
       "      <td>Camila_Cabello</td>\n",
       "      <td>1.766722</td>\n",
       "      <td>4.326472</td>\n",
       "      <td>-0.169340</td>\n",
       "      <td>3.630950</td>\n",
       "      <td>-0.111757</td>\n",
       "    </tr>\n",
       "    <tr>\n",
       "      <th>4844</th>\n",
       "      <td>spinalmocha777</td>\n",
       "      <td>1.739243</td>\n",
       "      <td>-0.060800</td>\n",
       "      <td>-0.184663</td>\n",
       "      <td>-0.069231</td>\n",
       "      <td>6.046778</td>\n",
       "    </tr>\n",
       "    <tr>\n",
       "      <th>2409</th>\n",
       "      <td>afpfr</td>\n",
       "      <td>1.678260</td>\n",
       "      <td>2.117488</td>\n",
       "      <td>2.098788</td>\n",
       "      <td>3.357646</td>\n",
       "      <td>0.048900</td>\n",
       "    </tr>\n",
       "    <tr>\n",
       "      <th>948</th>\n",
       "      <td>JackJ</td>\n",
       "      <td>1.649836</td>\n",
       "      <td>4.359575</td>\n",
       "      <td>-0.109785</td>\n",
       "      <td>2.686245</td>\n",
       "      <td>-0.111757</td>\n",
       "    </tr>\n",
       "    <tr>\n",
       "      <th>2914</th>\n",
       "      <td>common</td>\n",
       "      <td>1.591066</td>\n",
       "      <td>3.728220</td>\n",
       "      <td>-0.170922</td>\n",
       "      <td>3.659054</td>\n",
       "      <td>-0.111757</td>\n",
       "    </tr>\n",
       "    <tr>\n",
       "      <th>4698</th>\n",
       "      <td>samsmithworld</td>\n",
       "      <td>1.569393</td>\n",
       "      <td>4.700628</td>\n",
       "      <td>-0.156613</td>\n",
       "      <td>1.224582</td>\n",
       "      <td>0.048900</td>\n",
       "    </tr>\n",
       "    <tr>\n",
       "      <th>1433</th>\n",
       "      <td>NTN24</td>\n",
       "      <td>1.541329</td>\n",
       "      <td>2.700214</td>\n",
       "      <td>1.639216</td>\n",
       "      <td>2.045269</td>\n",
       "      <td>0.048900</td>\n",
       "    </tr>\n",
       "    <tr>\n",
       "      <th>1687</th>\n",
       "      <td>RelatableQuote</td>\n",
       "      <td>1.492103</td>\n",
       "      <td>3.468914</td>\n",
       "      <td>0.210473</td>\n",
       "      <td>2.560937</td>\n",
       "      <td>0.048900</td>\n",
       "    </tr>\n",
       "    <tr>\n",
       "      <th>988</th>\n",
       "      <td>JerrySeinfeld</td>\n",
       "      <td>1.487369</td>\n",
       "      <td>3.062170</td>\n",
       "      <td>-0.239167</td>\n",
       "      <td>4.306476</td>\n",
       "      <td>-0.058205</td>\n",
       "    </tr>\n",
       "    <tr>\n",
       "      <th>2119</th>\n",
       "      <td>Variety</td>\n",
       "      <td>1.436920</td>\n",
       "      <td>1.453221</td>\n",
       "      <td>1.196834</td>\n",
       "      <td>4.366294</td>\n",
       "      <td>0.156005</td>\n",
       "    </tr>\n",
       "    <tr>\n",
       "      <th>5098</th>\n",
       "      <td>vaderwan</td>\n",
       "      <td>1.435343</td>\n",
       "      <td>-0.057314</td>\n",
       "      <td>1.408118</td>\n",
       "      <td>-0.044221</td>\n",
       "      <td>3.690469</td>\n",
       "    </tr>\n",
       "    <tr>\n",
       "      <th>884</th>\n",
       "      <td>Imaginedragons</td>\n",
       "      <td>1.403738</td>\n",
       "      <td>4.173683</td>\n",
       "      <td>-0.194446</td>\n",
       "      <td>1.558477</td>\n",
       "      <td>-0.111757</td>\n",
       "    </tr>\n",
       "  </tbody>\n",
       "</table>\n",
       "</div>"
      ],
      "text/plain": [
       "            user_name      score  listed_count  followers_count  \\\n",
       "3860         ladygaga  25.456250     56.007645        -0.188352   \n",
       "4748          shakira  14.950998     37.085088        -0.212359   \n",
       "4351          notiven  14.847655     -0.022378        59.388918   \n",
       "2708     bombgoddess_  12.107594     -0.060331         0.031658   \n",
       "1602  PotatochiplfeV2   8.287463     -0.060857        -0.210386   \n",
       "557             Diddy   7.720085     10.424958         0.034645   \n",
       "3727        julizivic   7.516610     -0.060417        -0.209549   \n",
       "4559         rachlack   6.100132     -0.060402        -0.220957   \n",
       "1633       RATEDRIANA   6.067594     -0.060614        -0.221865   \n",
       "183         Asimon301   5.453360     -0.060773        -0.236308   \n",
       "2004         TheOnion   5.298059      8.065565         0.156891   \n",
       "379    CaraotaDigital   4.597221      0.697367        17.221296   \n",
       "1429     N24_carabobo   4.277613      0.178553        16.872208   \n",
       "3281               g1   3.762584      7.015567         3.951250   \n",
       "4350       noticias24   3.566777      2.229988         9.341838   \n",
       "340           CBSNews   3.396765      4.611217         0.889012   \n",
       "1920        SweetSin6   3.361879     -0.060687        -0.248305   \n",
       "2092          UNTPrez   3.261325     -0.051632        -0.173426   \n",
       "4472           people   3.257293      5.708944         1.142223   \n",
       "5063         twinkain   3.233806     -0.060835        -0.248539   \n",
       "1497  NoticiasCaracol   3.212451      5.699374         3.470587   \n",
       "2187               YG   3.159950      1.792335         0.006247   \n",
       "889          Info24US   2.753980     -0.047513         9.988291   \n",
       "603                EW   2.734769      4.881299         1.173345   \n",
       "1528     Oldlady12345   2.603935     -0.057304        10.554339   \n",
       "600          ELTIEMPO   2.600028      4.524408         2.741588   \n",
       "4743  sgaddaapollonio   2.485210     -0.055738        -0.041092   \n",
       "2672        billboard   2.415180      4.533355         0.954810   \n",
       "598      ELLEmagazine   2.398155      4.955721         0.822838   \n",
       "1011     JornalOGlobo   2.135631      3.988618         1.895038   \n",
       "659           Estadao   2.110509      4.325212         1.665791   \n",
       "4493        pitchfork   2.102874      2.520017         0.307634   \n",
       "2607     b4dmoonlight   2.069748     -0.059492         0.101081   \n",
       "3397           halsey   2.049877      6.172952        -0.161146   \n",
       "201          BETMusic   1.978967      4.441573        -0.035857   \n",
       "716      FreddyAmazin   1.943277      3.759270         0.570812   \n",
       "273       BillOReilly   1.893373      1.836266        -0.165700   \n",
       "621     El_Cooperante   1.859677      0.236183         7.023079   \n",
       "364    Camila_Cabello   1.766722      4.326472        -0.169340   \n",
       "4844   spinalmocha777   1.739243     -0.060800        -0.184663   \n",
       "2409            afpfr   1.678260      2.117488         2.098788   \n",
       "948             JackJ   1.649836      4.359575        -0.109785   \n",
       "2914           common   1.591066      3.728220        -0.170922   \n",
       "4698    samsmithworld   1.569393      4.700628        -0.156613   \n",
       "1433            NTN24   1.541329      2.700214         1.639216   \n",
       "1687   RelatableQuote   1.492103      3.468914         0.210473   \n",
       "988     JerrySeinfeld   1.487369      3.062170        -0.239167   \n",
       "2119          Variety   1.436920      1.453221         1.196834   \n",
       "5098         vaderwan   1.435343     -0.057314         1.408118   \n",
       "884    Imaginedragons   1.403738      4.173683        -0.194446   \n",
       "\n",
       "      statuses_count    central  \n",
       "3860       58.230480  -0.111757  \n",
       "4748       26.080592  -0.111757  \n",
       "4351        0.271110  -0.111757  \n",
       "2708       -0.069747  40.427468  \n",
       "1602       -0.070263  27.896188  \n",
       "557         8.826571  10.866501  \n",
       "3727       -0.070521  25.325670  \n",
       "4559       -0.069489  20.613052  \n",
       "1633       -0.070263  20.505947  \n",
       "183        -0.070778  18.470952  \n",
       "2004       19.151292  -0.111757  \n",
       "379         0.667659  -0.058205  \n",
       "1429        0.156374  -0.058205  \n",
       "3281        4.476647  -0.004652  \n",
       "4350        3.972323  -0.111757  \n",
       "340        12.164496  -0.111757  \n",
       "1920       -0.070521  11.509130  \n",
       "2092       -0.026947  11.080711  \n",
       "4472        8.617210  -0.111757  \n",
       "5063       -0.070778  11.082694  \n",
       "1497        4.456794  -0.111757  \n",
       "2187        0.665081   8.403087  \n",
       "889        -0.003741   0.905740  \n",
       "603         6.415820   0.048900  \n",
       "1528        0.107127  -0.111757  \n",
       "600         3.831803  -0.058205  \n",
       "4743       -0.058144   8.403087  \n",
       "2672        5.559552  -0.058205  \n",
       "598         4.928373  -0.111757  \n",
       "1011        2.789894   0.156005  \n",
       "659         2.759728  -0.058205  \n",
       "4493        8.689919  -0.111757  \n",
       "2607       -0.058402   6.903617  \n",
       "3397        1.704927  -0.058205  \n",
       "201         4.271927   0.048900  \n",
       "716         4.601697  -0.058205  \n",
       "273         2.916233   3.154944  \n",
       "621         0.443859  -0.111757  \n",
       "364         3.630950  -0.111757  \n",
       "4844       -0.069231   6.046778  \n",
       "2409        3.357646   0.048900  \n",
       "948         2.686245  -0.111757  \n",
       "2914        3.659054  -0.111757  \n",
       "4698        1.224582   0.048900  \n",
       "1433        2.045269   0.048900  \n",
       "1687        2.560937   0.048900  \n",
       "988         4.306476  -0.058205  \n",
       "2119        4.366294   0.156005  \n",
       "5098       -0.044221   3.690469  \n",
       "884         1.558477  -0.111757  "
      ]
     },
     "execution_count": 61,
     "metadata": {},
     "output_type": "execute_result"
    }
   ],
   "source": [
    "result"
   ]
  },
  {
   "cell_type": "markdown",
   "metadata": {},
   "source": [
    "#### we also did search word: *superbowl* <font color='green'>(for extra credits)</font>"
   ]
  },
  {
   "cell_type": "code",
   "execution_count": 62,
   "metadata": {
    "ExecuteTime": {
     "end_time": "2018-02-05T14:39:15.246418Z",
     "start_time": "2018-02-05T14:39:11.717194Z"
    },
    "scrolled": false
   },
   "outputs": [],
   "source": [
    "import json\n",
    "f = open('data/stream_superbowl.json')\n",
    "lines = f.readlines()\n",
    "tweets = []\n",
    "for l in lines:\n",
    "    tweets.append(json.loads(l))\n",
    "tweets = tweets[:5000]"
   ]
  },
  {
   "cell_type": "code",
   "execution_count": 63,
   "metadata": {
    "ExecuteTime": {
     "end_time": "2018-02-05T14:39:15.253214Z",
     "start_time": "2018-02-05T14:39:15.248709Z"
    },
    "scrolled": true
   },
   "outputs": [],
   "source": [
    "n = len(tweets)"
   ]
  },
  {
   "cell_type": "code",
   "execution_count": 65,
   "metadata": {
    "ExecuteTime": {
     "end_time": "2018-02-05T14:39:15.277695Z",
     "start_time": "2018-02-05T14:39:15.269670Z"
    }
   },
   "outputs": [],
   "source": [
    "user1 = []\n",
    "user2 = []\n",
    "tweet_type = []\n",
    "tweet_text = []"
   ]
  },
  {
   "cell_type": "code",
   "execution_count": 66,
   "metadata": {
    "ExecuteTime": {
     "end_time": "2018-02-05T14:39:15.365426Z",
     "start_time": "2018-02-05T14:39:15.280613Z"
    }
   },
   "outputs": [],
   "source": [
    "for i in range(n):\n",
    "    user_rt = ''\n",
    "    user_reply = ''\n",
    "    user_tw = tweets[i]['user']['screen_name']\n",
    "    txt = tweets[i]['text']\n",
    "    if tweets[i]['entities']['user_mentions']: #if any @ in tweets\n",
    "        user_mentioned = [m['screen_name'] for m in tweets[i]['entities']['user_mentions']] #store all @ screen names \n",
    "        if 'retweeted_status' in tweets[i].keys(): #if RT\n",
    "            user_rt = tweets[i]['retweeted_status']['user']['screen_name'] \n",
    "            user1.append(user_tw) #add one more link for RT\n",
    "            user2.append(user_rt)\n",
    "            tweet_type.append('RT')\n",
    "            tweet_text.append(txt)\n",
    "            user1.append(user_rt) #add one more link for og tweet, drop dup later\n",
    "            user2.append(user_rt)\n",
    "            tweet_type.append('tweet')\n",
    "            tweet_text.append(tweets[i]['retweeted_status']['text'])\n",
    "        elif tweets[i]['in_reply_to_screen_name']:\n",
    "            user_reply = tweets[i]['in_reply_to_screen_name']\n",
    "            user1.append(user_tw) #add one more link for reply\n",
    "            user2.append(user_reply)\n",
    "            tweet_type.append('reply')\n",
    "            tweet_text.append(txt)\n",
    "        for u in [user for user in user_mentioned if (user != user_rt and user != user_reply)]:\n",
    "            user1.append(user_tw) #add one more link for mention (exclude RT, reply)\n",
    "            user2.append(u)\n",
    "            tweet_type.append('mention')\n",
    "            tweet_text.append(txt)\n",
    "    else: #if no @ in tweet\n",
    "        user1.append(user_tw)\n",
    "        user2.append(user_tw)\n",
    "        tweet_type.append('tweet')\n",
    "        tweet_text.append(txt)"
   ]
  },
  {
   "cell_type": "code",
   "execution_count": 67,
   "metadata": {
    "ExecuteTime": {
     "end_time": "2018-02-05T14:39:15.382176Z",
     "start_time": "2018-02-05T14:39:15.367972Z"
    }
   },
   "outputs": [],
   "source": [
    "tweet_df = pd.DataFrame(zip(user1,user2,tweet_type,tweet_text),columns = ['user1','user2','type','text'])"
   ]
  },
  {
   "cell_type": "code",
   "execution_count": 68,
   "metadata": {
    "ExecuteTime": {
     "end_time": "2018-02-05T14:39:15.408613Z",
     "start_time": "2018-02-05T14:39:15.384720Z"
    }
   },
   "outputs": [],
   "source": [
    "tweet_df = tweet_df.drop_duplicates()[['user1','user2','type']]"
   ]
  },
  {
   "cell_type": "code",
   "execution_count": 69,
   "metadata": {
    "ExecuteTime": {
     "end_time": "2018-02-05T14:39:15.437856Z",
     "start_time": "2018-02-05T14:39:15.412456Z"
    }
   },
   "outputs": [],
   "source": [
    "tweet_df.to_csv('output/superbowl.csv')"
   ]
  },
  {
   "cell_type": "markdown",
   "metadata": {},
   "source": [
    "### calculate centrality, betweenness, closeness"
   ]
  },
  {
   "cell_type": "code",
   "execution_count": 70,
   "metadata": {
    "ExecuteTime": {
     "end_time": "2018-02-05T14:39:15.511047Z",
     "start_time": "2018-02-05T14:39:15.443320Z"
    },
    "scrolled": true
   },
   "outputs": [],
   "source": [
    "tweet_link = tweet_df.groupby(['user1','user2']).count().reset_index()"
   ]
  },
  {
   "cell_type": "code",
   "execution_count": 71,
   "metadata": {
    "ExecuteTime": {
     "end_time": "2018-02-05T14:39:15.532264Z",
     "start_time": "2018-02-05T14:39:15.517187Z"
    }
   },
   "outputs": [],
   "source": [
    "user_from = tweet_link.user1.tolist()\n",
    "user_to = tweet_link.user2.tolist()\n",
    "weight = tweet_link.type.tolist()"
   ]
  },
  {
   "cell_type": "code",
   "execution_count": 72,
   "metadata": {
    "ExecuteTime": {
     "end_time": "2018-02-05T14:39:15.542538Z",
     "start_time": "2018-02-05T14:39:15.537822Z"
    }
   },
   "outputs": [],
   "source": [
    "import networkx as nx\n",
    "G = nx.DiGraph()"
   ]
  },
  {
   "cell_type": "code",
   "execution_count": 73,
   "metadata": {
    "ExecuteTime": {
     "end_time": "2018-02-05T14:39:15.605909Z",
     "start_time": "2018-02-05T14:39:15.547586Z"
    }
   },
   "outputs": [],
   "source": [
    "for i in range(len(user_from)):\n",
    "    G.add_edge(user_from[i],user_to[i], weight = weight[i])"
   ]
  },
  {
   "cell_type": "code",
   "execution_count": 74,
   "metadata": {
    "ExecuteTime": {
     "end_time": "2018-02-05T14:39:15.612271Z",
     "start_time": "2018-02-05T14:39:15.608075Z"
    }
   },
   "outputs": [],
   "source": [
    "users = G.nodes"
   ]
  },
  {
   "cell_type": "code",
   "execution_count": 75,
   "metadata": {
    "ExecuteTime": {
     "end_time": "2018-02-05T14:41:04.169259Z",
     "start_time": "2018-02-05T14:39:15.615375Z"
    }
   },
   "outputs": [],
   "source": [
    "degree = nx.degree_centrality(G)\n",
    "between = nx.betweenness_centrality(G)\n",
    "close = nx.closeness_centrality(G)"
   ]
  },
  {
   "cell_type": "code",
   "execution_count": 76,
   "metadata": {
    "ExecuteTime": {
     "end_time": "2018-02-05T14:41:04.183851Z",
     "start_time": "2018-02-05T14:41:04.171236Z"
    }
   },
   "outputs": [],
   "source": [
    "user_stats_central = pd.DataFrame(zip(users,degree.values(),between.values(),close.values()),columns = ['user_name','degree','between','close'])"
   ]
  },
  {
   "cell_type": "markdown",
   "metadata": {},
   "source": [
    "### User Stats (listed_count, follower_count, statuses_count)"
   ]
  },
  {
   "cell_type": "code",
   "execution_count": 77,
   "metadata": {
    "ExecuteTime": {
     "end_time": "2018-02-05T14:41:04.264463Z",
     "start_time": "2018-02-05T14:41:04.187071Z"
    }
   },
   "outputs": [],
   "source": [
    "user_stats = {}\n",
    "for i in range(n):\n",
    "    user_tw = tweets[i]['user']['screen_name']\n",
    "    if 'retweeted_status' in tweets[i].keys():\n",
    "        user_rt = tweets[i]['retweeted_status']['user']['screen_name']\n",
    "    if user_tw not in user_stats:\n",
    "        user_stats[user_tw] = {}\n",
    "        user_stats[user_tw]['listed_count'] = tweets[i]['user']['listed_count']\n",
    "        user_stats[user_tw]['followers_count'] = tweets[i]['user']['followers_count']\n",
    "        user_stats[user_tw]['statuses_count'] = tweets[i]['user']['statuses_count']\n",
    "    if user_rt not in user_stats:\n",
    "        user_stats[user_rt] = {}\n",
    "        user_stats[user_rt]['listed_count'] = tweets[i]['retweeted_status']['user']['listed_count']\n",
    "        user_stats[user_rt]['followers_count'] = tweets[i]['retweeted_status']['user']['followers_count']\n",
    "        user_stats[user_rt]['statuses_count'] = tweets[i]['retweeted_status']['user']['statuses_count']"
   ]
  },
  {
   "cell_type": "code",
   "execution_count": 78,
   "metadata": {
    "ExecuteTime": {
     "end_time": "2018-02-05T14:41:04.500650Z",
     "start_time": "2018-02-05T14:41:04.267800Z"
    }
   },
   "outputs": [],
   "source": [
    "user_stats_api = pd.DataFrame.from_dict({i: user_stats[i] for i in user_stats.keys()},orient='index').drop_duplicates()\n",
    "user_stats_api = user_stats_api.reset_index()\n",
    "user_stats_api.columns = ['user_name','listed_count','followers_count','statuses_count']"
   ]
  },
  {
   "cell_type": "markdown",
   "metadata": {},
   "source": [
    "### Merge two dataframes (api stats and centrality)"
   ]
  },
  {
   "cell_type": "code",
   "execution_count": 79,
   "metadata": {
    "ExecuteTime": {
     "end_time": "2018-02-05T14:41:04.519893Z",
     "start_time": "2018-02-05T14:41:04.502701Z"
    },
    "scrolled": false
   },
   "outputs": [],
   "source": [
    "user_stats_overall = user_stats_api.merge(user_stats_central,left_on='user_name',right_on='user_name')"
   ]
  },
  {
   "cell_type": "code",
   "execution_count": 80,
   "metadata": {
    "ExecuteTime": {
     "end_time": "2018-02-05T14:41:04.527299Z",
     "start_time": "2018-02-05T14:41:04.523878Z"
    }
   },
   "outputs": [],
   "source": [
    "w = [0.3,0.25,0.15,0.3]"
   ]
  },
  {
   "cell_type": "code",
   "execution_count": 81,
   "metadata": {
    "ExecuteTime": {
     "end_time": "2018-02-05T14:41:04.539107Z",
     "start_time": "2018-02-05T14:41:04.530455Z"
    }
   },
   "outputs": [],
   "source": [
    "user_factor = user_stats_overall\n",
    "user_factor['central'] = user_factor.degree + user_factor.between + user_factor.close\n",
    "user_factor = user_factor.drop(['degree','between','close'],axis = 1)"
   ]
  },
  {
   "cell_type": "code",
   "execution_count": 82,
   "metadata": {
    "ExecuteTime": {
     "end_time": "2018-02-05T14:41:04.560310Z",
     "start_time": "2018-02-05T14:41:04.541956Z"
    }
   },
   "outputs": [],
   "source": [
    "scaler = StandardScaler() #standardize\n",
    "user_factor_norm = pd.DataFrame(scaler.fit_transform(user_factor[['listed_count','followers_count','statuses_count','central']]))\n",
    "user_factor_norm['user_name'] = user_factor['user_name']\n",
    "user_factor_norm['score'] = user_factor_norm.iloc[:,0]*w[0] + user_factor_norm.iloc[:,1]*w[1] + user_factor_norm.iloc[:,2]*w[2] + user_factor_norm.iloc[:,3]*w[3]\n",
    "user_factor_norm.columns = ['listed_count','followers_count','statuses_count','central','user_name','score']\n",
    "result = user_factor_norm[['user_name','score','listed_count','followers_count','statuses_count','central']].sort_values(by = 'score', ascending = False)[:50]"
   ]
  },
  {
   "cell_type": "code",
   "execution_count": 83,
   "metadata": {
    "ExecuteTime": {
     "end_time": "2018-02-05T14:41:04.629259Z",
     "start_time": "2018-02-05T14:41:04.563403Z"
    }
   },
   "outputs": [
    {
     "data": {
      "text/html": [
       "<div>\n",
       "<style>\n",
       "    .dataframe thead tr:only-child th {\n",
       "        text-align: right;\n",
       "    }\n",
       "\n",
       "    .dataframe thead th {\n",
       "        text-align: left;\n",
       "    }\n",
       "\n",
       "    .dataframe tbody tr th {\n",
       "        vertical-align: top;\n",
       "    }\n",
       "</style>\n",
       "<table border=\"1\" class=\"dataframe\">\n",
       "  <thead>\n",
       "    <tr style=\"text-align: right;\">\n",
       "      <th></th>\n",
       "      <th>user_name</th>\n",
       "      <th>score</th>\n",
       "      <th>listed_count</th>\n",
       "      <th>followers_count</th>\n",
       "      <th>statuses_count</th>\n",
       "      <th>central</th>\n",
       "    </tr>\n",
       "  </thead>\n",
       "  <tbody>\n",
       "    <tr>\n",
       "      <th>2447</th>\n",
       "      <td>SassyCassyCat</td>\n",
       "      <td>16.093450</td>\n",
       "      <td>-0.071697</td>\n",
       "      <td>2.225600</td>\n",
       "      <td>-0.094966</td>\n",
       "      <td>51.909346</td>\n",
       "    </tr>\n",
       "    <tr>\n",
       "      <th>1514</th>\n",
       "      <td>KingJames</td>\n",
       "      <td>15.921627</td>\n",
       "      <td>43.134190</td>\n",
       "      <td>-0.230013</td>\n",
       "      <td>20.416411</td>\n",
       "      <td>-0.078630</td>\n",
       "    </tr>\n",
       "    <tr>\n",
       "      <th>931</th>\n",
       "      <td>Favstar_Bot</td>\n",
       "      <td>14.970621</td>\n",
       "      <td>-0.018123</td>\n",
       "      <td>59.860199</td>\n",
       "      <td>0.230650</td>\n",
       "      <td>-0.078630</td>\n",
       "    </tr>\n",
       "    <tr>\n",
       "      <th>1936</th>\n",
       "      <td>NFL</td>\n",
       "      <td>11.420318</td>\n",
       "      <td>26.010628</td>\n",
       "      <td>0.941126</td>\n",
       "      <td>22.702912</td>\n",
       "      <td>-0.078630</td>\n",
       "    </tr>\n",
       "    <tr>\n",
       "      <th>969</th>\n",
       "      <td>FoxNews</td>\n",
       "      <td>10.515625</td>\n",
       "      <td>18.181191</td>\n",
       "      <td>2.406607</td>\n",
       "      <td>29.888033</td>\n",
       "      <td>-0.078630</td>\n",
       "    </tr>\n",
       "    <tr>\n",
       "      <th>1152</th>\n",
       "      <td>HillaryClinton</td>\n",
       "      <td>9.615100</td>\n",
       "      <td>22.865499</td>\n",
       "      <td>-0.197698</td>\n",
       "      <td>18.986388</td>\n",
       "      <td>-0.143611</td>\n",
       "    </tr>\n",
       "    <tr>\n",
       "      <th>5119</th>\n",
       "      <td>tinkerella66</td>\n",
       "      <td>9.118500</td>\n",
       "      <td>-0.079693</td>\n",
       "      <td>-0.222689</td>\n",
       "      <td>-0.127096</td>\n",
       "      <td>30.723814</td>\n",
       "    </tr>\n",
       "    <tr>\n",
       "      <th>453</th>\n",
       "      <td>CNNEE</td>\n",
       "      <td>9.019842</td>\n",
       "      <td>17.488921</td>\n",
       "      <td>0.741207</td>\n",
       "      <td>24.076348</td>\n",
       "      <td>-0.078630</td>\n",
       "    </tr>\n",
       "    <tr>\n",
       "      <th>1460</th>\n",
       "      <td>Kauaibride</td>\n",
       "      <td>7.470652</td>\n",
       "      <td>-0.043790</td>\n",
       "      <td>0.759933</td>\n",
       "      <td>0.170226</td>\n",
       "      <td>24.227572</td>\n",
       "    </tr>\n",
       "    <tr>\n",
       "      <th>1723</th>\n",
       "      <td>ManUtd</td>\n",
       "      <td>6.807010</td>\n",
       "      <td>18.190796</td>\n",
       "      <td>0.054186</td>\n",
       "      <td>9.195385</td>\n",
       "      <td>-0.143611</td>\n",
       "    </tr>\n",
       "    <tr>\n",
       "      <th>3817</th>\n",
       "      <td>funder</td>\n",
       "      <td>6.774393</td>\n",
       "      <td>0.234423</td>\n",
       "      <td>0.859919</td>\n",
       "      <td>1.309641</td>\n",
       "      <td>20.975468</td>\n",
       "    </tr>\n",
       "    <tr>\n",
       "      <th>894</th>\n",
       "      <td>FCBarcelona_es</td>\n",
       "      <td>5.855289</td>\n",
       "      <td>13.887389</td>\n",
       "      <td>0.426193</td>\n",
       "      <td>10.447494</td>\n",
       "      <td>0.051334</td>\n",
       "    </tr>\n",
       "    <tr>\n",
       "      <th>5250</th>\n",
       "      <td>wmag</td>\n",
       "      <td>5.839257</td>\n",
       "      <td>1.539590</td>\n",
       "      <td>0.364003</td>\n",
       "      <td>5.503798</td>\n",
       "      <td>14.869365</td>\n",
       "    </tr>\n",
       "    <tr>\n",
       "      <th>2858</th>\n",
       "      <td>TwitterSports</td>\n",
       "      <td>5.469719</td>\n",
       "      <td>16.537098</td>\n",
       "      <td>-0.186355</td>\n",
       "      <td>3.988415</td>\n",
       "      <td>-0.143611</td>\n",
       "    </tr>\n",
       "    <tr>\n",
       "      <th>2145</th>\n",
       "      <td>PerezHilton</td>\n",
       "      <td>5.397049</td>\n",
       "      <td>6.959314</td>\n",
       "      <td>1.929185</td>\n",
       "      <td>19.003652</td>\n",
       "      <td>-0.078630</td>\n",
       "    </tr>\n",
       "    <tr>\n",
       "      <th>1192</th>\n",
       "      <td>IGN</td>\n",
       "      <td>4.437502</td>\n",
       "      <td>7.085353</td>\n",
       "      <td>0.462191</td>\n",
       "      <td>10.900671</td>\n",
       "      <td>1.870824</td>\n",
       "    </tr>\n",
       "    <tr>\n",
       "      <th>858</th>\n",
       "      <td>El_Universal_Mx</td>\n",
       "      <td>4.205291</td>\n",
       "      <td>4.941526</td>\n",
       "      <td>4.109504</td>\n",
       "      <td>11.460307</td>\n",
       "      <td>-0.078630</td>\n",
       "    </tr>\n",
       "    <tr>\n",
       "      <th>493</th>\n",
       "      <td>CarlosLoret</td>\n",
       "      <td>3.939295</td>\n",
       "      <td>8.299394</td>\n",
       "      <td>0.242099</td>\n",
       "      <td>9.416938</td>\n",
       "      <td>-0.078630</td>\n",
       "    </tr>\n",
       "    <tr>\n",
       "      <th>3330</th>\n",
       "      <td>billboard</td>\n",
       "      <td>3.748163</td>\n",
       "      <td>6.619106</td>\n",
       "      <td>0.997007</td>\n",
       "      <td>10.245124</td>\n",
       "      <td>-0.078630</td>\n",
       "    </tr>\n",
       "    <tr>\n",
       "      <th>1722</th>\n",
       "      <td>ManCity</td>\n",
       "      <td>2.903927</td>\n",
       "      <td>6.120041</td>\n",
       "      <td>0.541213</td>\n",
       "      <td>6.244705</td>\n",
       "      <td>-0.013648</td>\n",
       "    </tr>\n",
       "    <tr>\n",
       "      <th>2654</th>\n",
       "      <td>TODAYshow</td>\n",
       "      <td>2.850815</td>\n",
       "      <td>4.588941</td>\n",
       "      <td>0.579255</td>\n",
       "      <td>9.149348</td>\n",
       "      <td>-0.143611</td>\n",
       "    </tr>\n",
       "    <tr>\n",
       "      <th>1856</th>\n",
       "      <td>MissyElliott</td>\n",
       "      <td>2.707252</td>\n",
       "      <td>6.643721</td>\n",
       "      <td>0.243642</td>\n",
       "      <td>4.252169</td>\n",
       "      <td>0.051334</td>\n",
       "    </tr>\n",
       "    <tr>\n",
       "      <th>1787</th>\n",
       "      <td>MeekMill</td>\n",
       "      <td>2.614190</td>\n",
       "      <td>7.083459</td>\n",
       "      <td>-0.017810</td>\n",
       "      <td>3.447961</td>\n",
       "      <td>-0.078630</td>\n",
       "    </tr>\n",
       "    <tr>\n",
       "      <th>1005</th>\n",
       "      <td>GMA</td>\n",
       "      <td>2.601199</td>\n",
       "      <td>3.969541</td>\n",
       "      <td>1.033893</td>\n",
       "      <td>7.576420</td>\n",
       "      <td>0.051334</td>\n",
       "    </tr>\n",
       "    <tr>\n",
       "      <th>3928</th>\n",
       "      <td>hitRECordJoe</td>\n",
       "      <td>2.564493</td>\n",
       "      <td>4.527025</td>\n",
       "      <td>-0.136672</td>\n",
       "      <td>8.557582</td>\n",
       "      <td>-0.143611</td>\n",
       "    </tr>\n",
       "    <tr>\n",
       "      <th>4260</th>\n",
       "      <td>lasillarota</td>\n",
       "      <td>2.534173</td>\n",
       "      <td>0.225465</td>\n",
       "      <td>9.053573</td>\n",
       "      <td>1.511532</td>\n",
       "      <td>-0.078630</td>\n",
       "    </tr>\n",
       "    <tr>\n",
       "      <th>870</th>\n",
       "      <td>EnkiVzla</td>\n",
       "      <td>2.518422</td>\n",
       "      <td>0.069307</td>\n",
       "      <td>10.154519</td>\n",
       "      <td>0.013892</td>\n",
       "      <td>-0.143611</td>\n",
       "    </tr>\n",
       "    <tr>\n",
       "      <th>3147</th>\n",
       "      <td>adage</td>\n",
       "      <td>2.468695</td>\n",
       "      <td>0.961692</td>\n",
       "      <td>0.367016</td>\n",
       "      <td>12.780512</td>\n",
       "      <td>0.571188</td>\n",
       "    </tr>\n",
       "    <tr>\n",
       "      <th>445</th>\n",
       "      <td>CGTNOfficial</td>\n",
       "      <td>2.450399</td>\n",
       "      <td>7.043665</td>\n",
       "      <td>0.075113</td>\n",
       "      <td>2.280732</td>\n",
       "      <td>-0.078630</td>\n",
       "    </tr>\n",
       "    <tr>\n",
       "      <th>661</th>\n",
       "      <td>DRJAMESCABOT</td>\n",
       "      <td>2.421158</td>\n",
       "      <td>4.244854</td>\n",
       "      <td>4.484329</td>\n",
       "      <td>0.074795</td>\n",
       "      <td>0.051334</td>\n",
       "    </tr>\n",
       "    <tr>\n",
       "      <th>486</th>\n",
       "      <td>CaracolRadio</td>\n",
       "      <td>2.410993</td>\n",
       "      <td>3.394327</td>\n",
       "      <td>3.023480</td>\n",
       "      <td>4.142831</td>\n",
       "      <td>0.051334</td>\n",
       "    </tr>\n",
       "    <tr>\n",
       "      <th>1987</th>\n",
       "      <td>NickKristof</td>\n",
       "      <td>2.388610</td>\n",
       "      <td>2.234289</td>\n",
       "      <td>-0.018168</td>\n",
       "      <td>11.383099</td>\n",
       "      <td>0.051334</td>\n",
       "    </tr>\n",
       "    <tr>\n",
       "      <th>5172</th>\n",
       "      <td>underdeskloser</td>\n",
       "      <td>2.349124</td>\n",
       "      <td>-0.039685</td>\n",
       "      <td>9.386277</td>\n",
       "      <td>0.383627</td>\n",
       "      <td>-0.143611</td>\n",
       "    </tr>\n",
       "    <tr>\n",
       "      <th>1681</th>\n",
       "      <td>MCHammer</td>\n",
       "      <td>2.196427</td>\n",
       "      <td>3.876805</td>\n",
       "      <td>0.244851</td>\n",
       "      <td>6.768375</td>\n",
       "      <td>-0.143611</td>\n",
       "    </tr>\n",
       "    <tr>\n",
       "      <th>2114</th>\n",
       "      <td>Patriots</td>\n",
       "      <td>2.170472</td>\n",
       "      <td>4.350710</td>\n",
       "      <td>0.049399</td>\n",
       "      <td>5.843320</td>\n",
       "      <td>-0.078630</td>\n",
       "    </tr>\n",
       "    <tr>\n",
       "      <th>2583</th>\n",
       "      <td>StationCDRKelly</td>\n",
       "      <td>2.154102</td>\n",
       "      <td>5.510521</td>\n",
       "      <td>-0.249738</td>\n",
       "      <td>3.913126</td>\n",
       "      <td>-0.078630</td>\n",
       "    </tr>\n",
       "    <tr>\n",
       "      <th>133</th>\n",
       "      <td>AjpapAnthony</td>\n",
       "      <td>2.102523</td>\n",
       "      <td>-0.079723</td>\n",
       "      <td>-0.207669</td>\n",
       "      <td>-0.136207</td>\n",
       "      <td>7.329294</td>\n",
       "    </tr>\n",
       "    <tr>\n",
       "      <th>2460</th>\n",
       "      <td>ScienceNews</td>\n",
       "      <td>2.039674</td>\n",
       "      <td>2.854792</td>\n",
       "      <td>-0.037931</td>\n",
       "      <td>8.108722</td>\n",
       "      <td>-0.078630</td>\n",
       "    </tr>\n",
       "    <tr>\n",
       "      <th>3188</th>\n",
       "      <td>altonbrown</td>\n",
       "      <td>2.031562</td>\n",
       "      <td>4.647453</td>\n",
       "      <td>-0.094386</td>\n",
       "      <td>4.303481</td>\n",
       "      <td>0.051334</td>\n",
       "    </tr>\n",
       "    <tr>\n",
       "      <th>1365</th>\n",
       "      <td>JohnLegere</td>\n",
       "      <td>2.004625</td>\n",
       "      <td>5.626499</td>\n",
       "      <td>0.007001</td>\n",
       "      <td>2.126796</td>\n",
       "      <td>-0.013648</td>\n",
       "    </tr>\n",
       "    <tr>\n",
       "      <th>2673</th>\n",
       "      <td>TamaraBenningto</td>\n",
       "      <td>1.954170</td>\n",
       "      <td>-0.078007</td>\n",
       "      <td>1.823084</td>\n",
       "      <td>-0.094486</td>\n",
       "      <td>5.119913</td>\n",
       "    </tr>\n",
       "    <tr>\n",
       "      <th>3639</th>\n",
       "      <td>djkhaled</td>\n",
       "      <td>1.925963</td>\n",
       "      <td>4.173791</td>\n",
       "      <td>0.394594</td>\n",
       "      <td>3.991772</td>\n",
       "      <td>-0.078630</td>\n",
       "    </tr>\n",
       "    <tr>\n",
       "      <th>1858</th>\n",
       "      <td>MisterYoung007</td>\n",
       "      <td>1.839393</td>\n",
       "      <td>-0.079373</td>\n",
       "      <td>0.918462</td>\n",
       "      <td>-0.129014</td>\n",
       "      <td>5.509804</td>\n",
       "    </tr>\n",
       "    <tr>\n",
       "      <th>3660</th>\n",
       "      <td>dreakero2222</td>\n",
       "      <td>1.835761</td>\n",
       "      <td>-0.076405</td>\n",
       "      <td>7.526507</td>\n",
       "      <td>0.004301</td>\n",
       "      <td>-0.078630</td>\n",
       "    </tr>\n",
       "    <tr>\n",
       "      <th>4422</th>\n",
       "      <td>mediotiempo</td>\n",
       "      <td>1.832954</td>\n",
       "      <td>2.341382</td>\n",
       "      <td>2.552338</td>\n",
       "      <td>3.310329</td>\n",
       "      <td>-0.013648</td>\n",
       "    </tr>\n",
       "    <tr>\n",
       "      <th>2177</th>\n",
       "      <td>PleasureEllis</td>\n",
       "      <td>1.830491</td>\n",
       "      <td>1.731725</td>\n",
       "      <td>0.914398</td>\n",
       "      <td>7.373090</td>\n",
       "      <td>-0.078630</td>\n",
       "    </tr>\n",
       "    <tr>\n",
       "      <th>895</th>\n",
       "      <td>FCBayern</td>\n",
       "      <td>1.795647</td>\n",
       "      <td>4.520782</td>\n",
       "      <td>0.074703</td>\n",
       "      <td>3.092133</td>\n",
       "      <td>-0.143611</td>\n",
       "    </tr>\n",
       "    <tr>\n",
       "      <th>2361</th>\n",
       "      <td>RobertsEmma</td>\n",
       "      <td>1.690158</td>\n",
       "      <td>3.959830</td>\n",
       "      <td>-0.220228</td>\n",
       "      <td>3.872364</td>\n",
       "      <td>-0.078630</td>\n",
       "    </tr>\n",
       "    <tr>\n",
       "      <th>2153</th>\n",
       "      <td>PhilBatman</td>\n",
       "      <td>1.618933</td>\n",
       "      <td>-0.080389</td>\n",
       "      <td>-0.269181</td>\n",
       "      <td>-0.137166</td>\n",
       "      <td>5.769731</td>\n",
       "    </tr>\n",
       "    <tr>\n",
       "      <th>5296</th>\n",
       "      <td>yusufyuie</td>\n",
       "      <td>1.535342</td>\n",
       "      <td>-0.058234</td>\n",
       "      <td>6.111970</td>\n",
       "      <td>0.322724</td>\n",
       "      <td>-0.078630</td>\n",
       "    </tr>\n",
       "  </tbody>\n",
       "</table>\n",
       "</div>"
      ],
      "text/plain": [
       "            user_name      score  listed_count  followers_count  \\\n",
       "2447    SassyCassyCat  16.093450     -0.071697         2.225600   \n",
       "1514        KingJames  15.921627     43.134190        -0.230013   \n",
       "931       Favstar_Bot  14.970621     -0.018123        59.860199   \n",
       "1936              NFL  11.420318     26.010628         0.941126   \n",
       "969           FoxNews  10.515625     18.181191         2.406607   \n",
       "1152   HillaryClinton   9.615100     22.865499        -0.197698   \n",
       "5119     tinkerella66   9.118500     -0.079693        -0.222689   \n",
       "453             CNNEE   9.019842     17.488921         0.741207   \n",
       "1460       Kauaibride   7.470652     -0.043790         0.759933   \n",
       "1723           ManUtd   6.807010     18.190796         0.054186   \n",
       "3817           funder   6.774393      0.234423         0.859919   \n",
       "894    FCBarcelona_es   5.855289     13.887389         0.426193   \n",
       "5250             wmag   5.839257      1.539590         0.364003   \n",
       "2858    TwitterSports   5.469719     16.537098        -0.186355   \n",
       "2145      PerezHilton   5.397049      6.959314         1.929185   \n",
       "1192              IGN   4.437502      7.085353         0.462191   \n",
       "858   El_Universal_Mx   4.205291      4.941526         4.109504   \n",
       "493       CarlosLoret   3.939295      8.299394         0.242099   \n",
       "3330        billboard   3.748163      6.619106         0.997007   \n",
       "1722          ManCity   2.903927      6.120041         0.541213   \n",
       "2654        TODAYshow   2.850815      4.588941         0.579255   \n",
       "1856     MissyElliott   2.707252      6.643721         0.243642   \n",
       "1787         MeekMill   2.614190      7.083459        -0.017810   \n",
       "1005              GMA   2.601199      3.969541         1.033893   \n",
       "3928     hitRECordJoe   2.564493      4.527025        -0.136672   \n",
       "4260      lasillarota   2.534173      0.225465         9.053573   \n",
       "870          EnkiVzla   2.518422      0.069307        10.154519   \n",
       "3147            adage   2.468695      0.961692         0.367016   \n",
       "445      CGTNOfficial   2.450399      7.043665         0.075113   \n",
       "661      DRJAMESCABOT   2.421158      4.244854         4.484329   \n",
       "486      CaracolRadio   2.410993      3.394327         3.023480   \n",
       "1987      NickKristof   2.388610      2.234289        -0.018168   \n",
       "5172   underdeskloser   2.349124     -0.039685         9.386277   \n",
       "1681         MCHammer   2.196427      3.876805         0.244851   \n",
       "2114         Patriots   2.170472      4.350710         0.049399   \n",
       "2583  StationCDRKelly   2.154102      5.510521        -0.249738   \n",
       "133      AjpapAnthony   2.102523     -0.079723        -0.207669   \n",
       "2460      ScienceNews   2.039674      2.854792        -0.037931   \n",
       "3188       altonbrown   2.031562      4.647453        -0.094386   \n",
       "1365       JohnLegere   2.004625      5.626499         0.007001   \n",
       "2673  TamaraBenningto   1.954170     -0.078007         1.823084   \n",
       "3639         djkhaled   1.925963      4.173791         0.394594   \n",
       "1858   MisterYoung007   1.839393     -0.079373         0.918462   \n",
       "3660     dreakero2222   1.835761     -0.076405         7.526507   \n",
       "4422      mediotiempo   1.832954      2.341382         2.552338   \n",
       "2177    PleasureEllis   1.830491      1.731725         0.914398   \n",
       "895          FCBayern   1.795647      4.520782         0.074703   \n",
       "2361      RobertsEmma   1.690158      3.959830        -0.220228   \n",
       "2153       PhilBatman   1.618933     -0.080389        -0.269181   \n",
       "5296        yusufyuie   1.535342     -0.058234         6.111970   \n",
       "\n",
       "      statuses_count    central  \n",
       "2447       -0.094966  51.909346  \n",
       "1514       20.416411  -0.078630  \n",
       "931         0.230650  -0.078630  \n",
       "1936       22.702912  -0.078630  \n",
       "969        29.888033  -0.078630  \n",
       "1152       18.986388  -0.143611  \n",
       "5119       -0.127096  30.723814  \n",
       "453        24.076348  -0.078630  \n",
       "1460        0.170226  24.227572  \n",
       "1723        9.195385  -0.143611  \n",
       "3817        1.309641  20.975468  \n",
       "894        10.447494   0.051334  \n",
       "5250        5.503798  14.869365  \n",
       "2858        3.988415  -0.143611  \n",
       "2145       19.003652  -0.078630  \n",
       "1192       10.900671   1.870824  \n",
       "858        11.460307  -0.078630  \n",
       "493         9.416938  -0.078630  \n",
       "3330       10.245124  -0.078630  \n",
       "1722        6.244705  -0.013648  \n",
       "2654        9.149348  -0.143611  \n",
       "1856        4.252169   0.051334  \n",
       "1787        3.447961  -0.078630  \n",
       "1005        7.576420   0.051334  \n",
       "3928        8.557582  -0.143611  \n",
       "4260        1.511532  -0.078630  \n",
       "870         0.013892  -0.143611  \n",
       "3147       12.780512   0.571188  \n",
       "445         2.280732  -0.078630  \n",
       "661         0.074795   0.051334  \n",
       "486         4.142831   0.051334  \n",
       "1987       11.383099   0.051334  \n",
       "5172        0.383627  -0.143611  \n",
       "1681        6.768375  -0.143611  \n",
       "2114        5.843320  -0.078630  \n",
       "2583        3.913126  -0.078630  \n",
       "133        -0.136207   7.329294  \n",
       "2460        8.108722  -0.078630  \n",
       "3188        4.303481   0.051334  \n",
       "1365        2.126796  -0.013648  \n",
       "2673       -0.094486   5.119913  \n",
       "3639        3.991772  -0.078630  \n",
       "1858       -0.129014   5.509804  \n",
       "3660        0.004301  -0.078630  \n",
       "4422        3.310329  -0.013648  \n",
       "2177        7.373090  -0.078630  \n",
       "895         3.092133  -0.143611  \n",
       "2361        3.872364  -0.078630  \n",
       "2153       -0.137166   5.769731  \n",
       "5296        0.322724  -0.078630  "
      ]
     },
     "execution_count": 83,
     "metadata": {},
     "output_type": "execute_result"
    }
   ],
   "source": [
    "result"
   ]
  }
 ],
 "metadata": {
  "kernelspec": {
   "display_name": "Python 2",
   "language": "python",
   "name": "python2"
  },
  "language_info": {
   "codemirror_mode": {
    "name": "ipython",
    "version": 2
   },
   "file_extension": ".py",
   "mimetype": "text/x-python",
   "name": "python",
   "nbconvert_exporter": "python",
   "pygments_lexer": "ipython2",
   "version": "2.7.13"
  }
 },
 "nbformat": 4,
 "nbformat_minor": 2
}
