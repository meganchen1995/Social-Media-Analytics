{
 "cells": [
  {
   "cell_type": "markdown",
   "metadata": {},
   "source": [
    "## Fetch tweets with Tweepy"
   ]
  },
  {
   "cell_type": "code",
   "execution_count": 3,
   "metadata": {
    "ExecuteTime": {
     "end_time": "2018-02-19T06:09:00.707112Z",
     "start_time": "2018-02-19T00:09:00.703927-06:00"
    }
   },
   "outputs": [],
   "source": [
    "import json"
   ]
  },
  {
   "cell_type": "code",
   "execution_count": 2,
   "metadata": {
    "ExecuteTime": {
     "end_time": "2018-02-19T06:08:00.159348Z",
     "start_time": "2018-02-19T00:07:59.964194-06:00"
    }
   },
   "outputs": [],
   "source": [
    "import tweepy\n",
    "from tweepy import OAuthHandler\n",
    " \n",
    "consumer_key = 'your consumer_key'\n",
    "consumer_secret = 'your consumer_secret'\n",
    "access_token = 'your access_token'\n",
    "access_secret = 'your access_secret'\n",
    " \n",
    "auth = OAuthHandler(consumer_key, consumer_secret)\n",
    "auth.set_access_token(access_token, access_secret)\n",
    " \n",
    "api = tweepy.API(auth)"
   ]
  },
  {
   "cell_type": "code",
   "execution_count": 22,
   "metadata": {
    "ExecuteTime": {
     "end_time": "2018-02-19T06:25:05.450968Z",
     "start_time": "2018-02-19T00:25:05.447809-06:00"
    }
   },
   "outputs": [],
   "source": [
    "airline_twitter = ['@AlaskaAir','@AmericanAir','@JetBlue','@Delta','@united','@FlyFrontier','@SpiritAirlines','@SouthwestAir','@HawaiianAir','@VirginAmerica']"
   ]
  },
  {
   "cell_type": "code",
   "execution_count": 24,
   "metadata": {
    "ExecuteTime": {
     "end_time": "2018-02-19T09:21:29.486385Z",
     "start_time": "2018-02-19T00:32:46.992050-06:00"
    }
   },
   "outputs": [],
   "source": [
    "import time\n",
    "airline_tweets = {}\n",
    "for a in airline_twitter:\n",
    "    query = a\n",
    "    n = 1000\n",
    "    searched_tweets = [status._json for status in tweepy.Cursor(api.search, q=query).items(n)]\n",
    "    airline_tweets[a] = searched_tweets\n",
    "    time.sleep(1000)"
   ]
  },
  {
   "cell_type": "code",
   "execution_count": 43,
   "metadata": {
    "ExecuteTime": {
     "end_time": "2018-02-19T22:33:45.025670Z",
     "start_time": "2018-02-19T16:33:43.961966-06:00"
    }
   },
   "outputs": [],
   "source": [
    "for a in airline_tweets:\n",
    "    with open('./data/{}.json'.format(a),'a') as f:\n",
    "        for t in airline_tweets[a]:\n",
    "            f.write(json.dumps(t)+'\\n')"
   ]
  }
 ],
 "metadata": {
  "kernelspec": {
   "display_name": "Python 3",
   "language": "python",
   "name": "python3"
  },
  "language_info": {
   "codemirror_mode": {
    "name": "ipython",
    "version": 3
   },
   "file_extension": ".py",
   "mimetype": "text/x-python",
   "name": "python",
   "nbconvert_exporter": "python",
   "pygments_lexer": "ipython3",
   "version": "3.6.0"
  },
  "toc": {
   "nav_menu": {},
   "number_sections": false,
   "sideBar": true,
   "skip_h1_title": false,
   "toc_cell": false,
   "toc_position": {},
   "toc_section_display": "block",
   "toc_window_display": false
  }
 },
 "nbformat": 4,
 "nbformat_minor": 2
}
